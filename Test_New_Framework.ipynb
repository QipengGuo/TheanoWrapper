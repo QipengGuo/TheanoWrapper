{
 "cells": [
  {
   "cell_type": "code",
   "execution_count": 1,
   "metadata": {
    "collapsed": false
   },
   "outputs": [],
   "source": [
    "import os\n",
    "os.environ['THEANO_FLAGS']='mode=FAST_RUN,device=gpu,floatX=float32'"
   ]
  },
  {
   "cell_type": "code",
   "execution_count": 2,
   "metadata": {
    "collapsed": false
   },
   "outputs": [
    {
     "name": "stderr",
     "output_type": "stream",
     "text": [
      "Using gpu device 0: GeForce GTX 850M (CNMeM is disabled)\n"
     ]
    }
   ],
   "source": [
    "import theano\n",
    "import theano.tensor as T\n",
    "import theano.tensor.nnet as NN\n",
    "import numpy as NP\n",
    "import numpy.random as RNG\n",
    "import h5py\n",
    "import dataUtils\n",
    "from collections import OrderedDict\n",
    "from Wrapper import Model, rmsprop\n",
    "%matplotlib inline\n",
    "import matplotlib.pyplot as plt"
   ]
  },
  {
   "cell_type": "code",
   "execution_count": 3,
   "metadata": {
    "collapsed": false
   },
   "outputs": [],
   "source": [
    "from dataUtils import BouncingMNIST\n",
    "seq_len = 5\n",
    "batch_size = 32\n",
    "image_size = 100\n",
    "bmnist = BouncingMNIST(batch_size, image_size, 'train/inputs', 'train/targets', clutter_size_max = 14, scale_range = 0.1)"
   ]
  },
  {
   "cell_type": "code",
   "execution_count": 49,
   "metadata": {
    "collapsed": false,
    "scrolled": true
   },
   "outputs": [
    {
     "ename": "ValueError",
     "evalue": "('You cannot drop a non-broadcastable dimension.', ((False, False, False, False, False), (0, 4, 1, 2)))",
     "output_type": "error",
     "traceback": [
      "\u001b[1;31m---------------------------------------------------------------------------\u001b[0m",
      "\u001b[1;31mValueError\u001b[0m                                Traceback (most recent call last)",
      "\u001b[1;32m<ipython-input-49-ef90f89dc420>\u001b[0m in \u001b[0;36m<module>\u001b[1;34m()\u001b[0m\n\u001b[0;32m     41\u001b[0m \u001b[1;33m\u001b[0m\u001b[0m\n\u001b[0;32m     42\u001b[0m \u001b[1;31m#test_func = theano.function([img_in, img_tar, seg_img], cost, allow_input_downcast=True)\u001b[0m\u001b[1;33m\u001b[0m\u001b[1;33m\u001b[0m\u001b[0m\n\u001b[1;32m---> 43\u001b[1;33m \u001b[0mtrain_func\u001b[0m \u001b[1;33m=\u001b[0m \u001b[0mtheano\u001b[0m\u001b[1;33m.\u001b[0m\u001b[0mfunction\u001b[0m\u001b[1;33m(\u001b[0m\u001b[1;33m[\u001b[0m\u001b[0mimg_in\u001b[0m\u001b[1;33m,\u001b[0m \u001b[0mimg_tar\u001b[0m\u001b[1;33m,\u001b[0m \u001b[0mseg_img\u001b[0m\u001b[1;33m]\u001b[0m\u001b[1;33m,\u001b[0m \u001b[1;33m[\u001b[0m\u001b[0mcost_cls\u001b[0m\u001b[1;33m,\u001b[0m \u001b[0mcost\u001b[0m\u001b[1;33m,\u001b[0m \u001b[0mimg_out\u001b[0m\u001b[1;33m]\u001b[0m\u001b[1;33m,\u001b[0m \u001b[0mupdates\u001b[0m\u001b[1;33m=\u001b[0m\u001b[0mrmsprop\u001b[0m\u001b[1;33m(\u001b[0m\u001b[0mcost\u001b[0m\u001b[1;33m,\u001b[0m \u001b[0mmodel\u001b[0m\u001b[1;33m.\u001b[0m\u001b[0mweightsPack\u001b[0m\u001b[1;33m.\u001b[0m\u001b[0mgetW_list\u001b[0m\u001b[1;33m(\u001b[0m\u001b[1;33m)\u001b[0m\u001b[1;33m)\u001b[0m\u001b[1;33m,\u001b[0m \u001b[0mallow_input_downcast\u001b[0m\u001b[1;33m=\u001b[0m\u001b[0mTrue\u001b[0m\u001b[1;33m)\u001b[0m\u001b[1;33m\u001b[0m\u001b[0m\n\u001b[0m\u001b[0;32m     44\u001b[0m \u001b[1;31m#predict_func = theano.function([img_in], img_out, allow_input_downcast=True)\u001b[0m\u001b[1;33m\u001b[0m\u001b[1;33m\u001b[0m\u001b[0m\n",
      "\u001b[1;32m/home/gqp/Test_New_framework/Wrapper.py\u001b[0m in \u001b[0;36mrmsprop\u001b[1;34m(cost, params, lr, rho, epsilon)\u001b[0m\n\u001b[0;32m    143\u001b[0m     '''\n\u001b[0;32m    144\u001b[0m     \u001b[0mupdates\u001b[0m \u001b[1;33m=\u001b[0m \u001b[0mOrderedDict\u001b[0m\u001b[1;33m(\u001b[0m\u001b[1;33m)\u001b[0m\u001b[1;33m\u001b[0m\u001b[0m\n\u001b[1;32m--> 145\u001b[1;33m     \u001b[0mgrads\u001b[0m \u001b[1;33m=\u001b[0m \u001b[0mtheano\u001b[0m\u001b[1;33m.\u001b[0m\u001b[0mgrad\u001b[0m\u001b[1;33m(\u001b[0m\u001b[0mcost\u001b[0m\u001b[1;33m,\u001b[0m \u001b[0mparams\u001b[0m\u001b[1;33m)\u001b[0m\u001b[1;33m\u001b[0m\u001b[0m\n\u001b[0m\u001b[0;32m    146\u001b[0m     \u001b[0macc\u001b[0m \u001b[1;33m=\u001b[0m \u001b[1;33m[\u001b[0m\u001b[0mtheano\u001b[0m\u001b[1;33m.\u001b[0m\u001b[0mshared\u001b[0m\u001b[1;33m(\u001b[0m\u001b[0mNP\u001b[0m\u001b[1;33m.\u001b[0m\u001b[0mzeros\u001b[0m\u001b[1;33m(\u001b[0m\u001b[0mp\u001b[0m\u001b[1;33m.\u001b[0m\u001b[0mget_value\u001b[0m\u001b[1;33m(\u001b[0m\u001b[1;33m)\u001b[0m\u001b[1;33m.\u001b[0m\u001b[0mshape\u001b[0m\u001b[1;33m,\u001b[0m \u001b[0mdtype\u001b[0m\u001b[1;33m=\u001b[0m\u001b[0mtheano\u001b[0m\u001b[1;33m.\u001b[0m\u001b[0mconfig\u001b[0m\u001b[1;33m.\u001b[0m\u001b[0mfloatX\u001b[0m\u001b[1;33m)\u001b[0m\u001b[1;33m)\u001b[0m \u001b[1;32mfor\u001b[0m \u001b[0mp\u001b[0m \u001b[1;32min\u001b[0m \u001b[0mparams\u001b[0m\u001b[1;33m]\u001b[0m\u001b[1;33m\u001b[0m\u001b[0m\n\u001b[0;32m    147\u001b[0m     \u001b[1;32mfor\u001b[0m \u001b[0mp\u001b[0m\u001b[1;33m,\u001b[0m \u001b[0mg\u001b[0m\u001b[1;33m,\u001b[0m \u001b[0ma\u001b[0m \u001b[1;32min\u001b[0m \u001b[0mzip\u001b[0m\u001b[1;33m(\u001b[0m\u001b[0mparams\u001b[0m\u001b[1;33m,\u001b[0m \u001b[0mgrads\u001b[0m\u001b[1;33m,\u001b[0m \u001b[0macc\u001b[0m\u001b[1;33m)\u001b[0m\u001b[1;33m:\u001b[0m\u001b[1;33m\u001b[0m\u001b[0m\n",
      "\u001b[1;32m/usr/lib/python2.7/site-packages/Theano-0.7.0-py2.7.egg/theano/gradient.pyc\u001b[0m in \u001b[0;36mgrad\u001b[1;34m(cost, wrt, consider_constant, disconnected_inputs, add_names, known_grads, return_disconnected, null_gradients)\u001b[0m\n\u001b[0;32m    565\u001b[0m \u001b[1;33m\u001b[0m\u001b[0m\n\u001b[0;32m    566\u001b[0m     rval = _populate_grad_dict(var_to_app_to_idx,\n\u001b[1;32m--> 567\u001b[1;33m                                grad_dict, wrt, cost_name)\n\u001b[0m\u001b[0;32m    568\u001b[0m \u001b[1;33m\u001b[0m\u001b[0m\n\u001b[0;32m    569\u001b[0m     \u001b[1;32mfor\u001b[0m \u001b[0mi\u001b[0m \u001b[1;32min\u001b[0m \u001b[0mxrange\u001b[0m\u001b[1;33m(\u001b[0m\u001b[0mlen\u001b[0m\u001b[1;33m(\u001b[0m\u001b[0mrval\u001b[0m\u001b[1;33m)\u001b[0m\u001b[1;33m)\u001b[0m\u001b[1;33m:\u001b[0m\u001b[1;33m\u001b[0m\u001b[0m\n",
      "\u001b[1;32m/usr/lib/python2.7/site-packages/Theano-0.7.0-py2.7.egg/theano/gradient.pyc\u001b[0m in \u001b[0;36m_populate_grad_dict\u001b[1;34m(var_to_app_to_idx, grad_dict, wrt, cost_name)\u001b[0m\n\u001b[0;32m   1328\u001b[0m         \u001b[1;32mreturn\u001b[0m \u001b[0mgrad_dict\u001b[0m\u001b[1;33m[\u001b[0m\u001b[0mvar\u001b[0m\u001b[1;33m]\u001b[0m\u001b[1;33m\u001b[0m\u001b[0m\n\u001b[0;32m   1329\u001b[0m \u001b[1;33m\u001b[0m\u001b[0m\n\u001b[1;32m-> 1330\u001b[1;33m     \u001b[0mrval\u001b[0m \u001b[1;33m=\u001b[0m \u001b[1;33m[\u001b[0m\u001b[0maccess_grad_cache\u001b[0m\u001b[1;33m(\u001b[0m\u001b[0melem\u001b[0m\u001b[1;33m)\u001b[0m \u001b[1;32mfor\u001b[0m \u001b[0melem\u001b[0m \u001b[1;32min\u001b[0m \u001b[0mwrt\u001b[0m\u001b[1;33m]\u001b[0m\u001b[1;33m\u001b[0m\u001b[0m\n\u001b[0m\u001b[0;32m   1331\u001b[0m \u001b[1;33m\u001b[0m\u001b[0m\n\u001b[0;32m   1332\u001b[0m     \u001b[1;32mreturn\u001b[0m \u001b[0mrval\u001b[0m\u001b[1;33m\u001b[0m\u001b[0m\n",
      "\u001b[1;32m/usr/lib/python2.7/site-packages/Theano-0.7.0-py2.7.egg/theano/gradient.pyc\u001b[0m in \u001b[0;36maccess_grad_cache\u001b[1;34m(var)\u001b[0m\n\u001b[0;32m   1283\u001b[0m                     \u001b[1;32mfor\u001b[0m \u001b[0midx\u001b[0m \u001b[1;32min\u001b[0m \u001b[0mnode_to_idx\u001b[0m\u001b[1;33m[\u001b[0m\u001b[0mnode\u001b[0m\u001b[1;33m]\u001b[0m\u001b[1;33m:\u001b[0m\u001b[1;33m\u001b[0m\u001b[0m\n\u001b[0;32m   1284\u001b[0m \u001b[1;33m\u001b[0m\u001b[0m\n\u001b[1;32m-> 1285\u001b[1;33m                         \u001b[0mterm\u001b[0m \u001b[1;33m=\u001b[0m \u001b[0maccess_term_cache\u001b[0m\u001b[1;33m(\u001b[0m\u001b[0mnode\u001b[0m\u001b[1;33m)\u001b[0m\u001b[1;33m[\u001b[0m\u001b[0midx\u001b[0m\u001b[1;33m]\u001b[0m\u001b[1;33m\u001b[0m\u001b[0m\n\u001b[0m\u001b[0;32m   1286\u001b[0m \u001b[1;33m\u001b[0m\u001b[0m\n\u001b[0;32m   1287\u001b[0m                         \u001b[1;32mif\u001b[0m \u001b[1;32mnot\u001b[0m \u001b[0misinstance\u001b[0m\u001b[1;33m(\u001b[0m\u001b[0mterm\u001b[0m\u001b[1;33m,\u001b[0m \u001b[0mgof\u001b[0m\u001b[1;33m.\u001b[0m\u001b[0mVariable\u001b[0m\u001b[1;33m)\u001b[0m\u001b[1;33m:\u001b[0m\u001b[1;33m\u001b[0m\u001b[0m\n",
      "\u001b[1;32m/usr/lib/python2.7/site-packages/Theano-0.7.0-py2.7.egg/theano/gradient.pyc\u001b[0m in \u001b[0;36maccess_term_cache\u001b[1;34m(node)\u001b[0m\n\u001b[0;32m    977\u001b[0m             \u001b[0minputs\u001b[0m \u001b[1;33m=\u001b[0m \u001b[0mnode\u001b[0m\u001b[1;33m.\u001b[0m\u001b[0minputs\u001b[0m\u001b[1;33m\u001b[0m\u001b[0m\n\u001b[0;32m    978\u001b[0m \u001b[1;33m\u001b[0m\u001b[0m\n\u001b[1;32m--> 979\u001b[1;33m             \u001b[0moutput_grads\u001b[0m \u001b[1;33m=\u001b[0m \u001b[1;33m[\u001b[0m\u001b[0maccess_grad_cache\u001b[0m\u001b[1;33m(\u001b[0m\u001b[0mvar\u001b[0m\u001b[1;33m)\u001b[0m \u001b[1;32mfor\u001b[0m \u001b[0mvar\u001b[0m \u001b[1;32min\u001b[0m \u001b[0mnode\u001b[0m\u001b[1;33m.\u001b[0m\u001b[0moutputs\u001b[0m\u001b[1;33m]\u001b[0m\u001b[1;33m\u001b[0m\u001b[0m\n\u001b[0m\u001b[0;32m    980\u001b[0m \u001b[1;33m\u001b[0m\u001b[0m\n\u001b[0;32m    981\u001b[0m             \u001b[1;31m# list of bools indicating if each output is connected to the cost\u001b[0m\u001b[1;33m\u001b[0m\u001b[1;33m\u001b[0m\u001b[0m\n",
      "\u001b[1;32m/usr/lib/python2.7/site-packages/Theano-0.7.0-py2.7.egg/theano/gradient.pyc\u001b[0m in \u001b[0;36maccess_grad_cache\u001b[1;34m(var)\u001b[0m\n\u001b[0;32m   1283\u001b[0m                     \u001b[1;32mfor\u001b[0m \u001b[0midx\u001b[0m \u001b[1;32min\u001b[0m \u001b[0mnode_to_idx\u001b[0m\u001b[1;33m[\u001b[0m\u001b[0mnode\u001b[0m\u001b[1;33m]\u001b[0m\u001b[1;33m:\u001b[0m\u001b[1;33m\u001b[0m\u001b[0m\n\u001b[0;32m   1284\u001b[0m \u001b[1;33m\u001b[0m\u001b[0m\n\u001b[1;32m-> 1285\u001b[1;33m                         \u001b[0mterm\u001b[0m \u001b[1;33m=\u001b[0m \u001b[0maccess_term_cache\u001b[0m\u001b[1;33m(\u001b[0m\u001b[0mnode\u001b[0m\u001b[1;33m)\u001b[0m\u001b[1;33m[\u001b[0m\u001b[0midx\u001b[0m\u001b[1;33m]\u001b[0m\u001b[1;33m\u001b[0m\u001b[0m\n\u001b[0m\u001b[0;32m   1286\u001b[0m \u001b[1;33m\u001b[0m\u001b[0m\n\u001b[0;32m   1287\u001b[0m                         \u001b[1;32mif\u001b[0m \u001b[1;32mnot\u001b[0m \u001b[0misinstance\u001b[0m\u001b[1;33m(\u001b[0m\u001b[0mterm\u001b[0m\u001b[1;33m,\u001b[0m \u001b[0mgof\u001b[0m\u001b[1;33m.\u001b[0m\u001b[0mVariable\u001b[0m\u001b[1;33m)\u001b[0m\u001b[1;33m:\u001b[0m\u001b[1;33m\u001b[0m\u001b[0m\n",
      "\u001b[1;32m/usr/lib/python2.7/site-packages/Theano-0.7.0-py2.7.egg/theano/gradient.pyc\u001b[0m in \u001b[0;36maccess_term_cache\u001b[1;34m(node)\u001b[0m\n\u001b[0;32m    977\u001b[0m             \u001b[0minputs\u001b[0m \u001b[1;33m=\u001b[0m \u001b[0mnode\u001b[0m\u001b[1;33m.\u001b[0m\u001b[0minputs\u001b[0m\u001b[1;33m\u001b[0m\u001b[0m\n\u001b[0;32m    978\u001b[0m \u001b[1;33m\u001b[0m\u001b[0m\n\u001b[1;32m--> 979\u001b[1;33m             \u001b[0moutput_grads\u001b[0m \u001b[1;33m=\u001b[0m \u001b[1;33m[\u001b[0m\u001b[0maccess_grad_cache\u001b[0m\u001b[1;33m(\u001b[0m\u001b[0mvar\u001b[0m\u001b[1;33m)\u001b[0m \u001b[1;32mfor\u001b[0m \u001b[0mvar\u001b[0m \u001b[1;32min\u001b[0m \u001b[0mnode\u001b[0m\u001b[1;33m.\u001b[0m\u001b[0moutputs\u001b[0m\u001b[1;33m]\u001b[0m\u001b[1;33m\u001b[0m\u001b[0m\n\u001b[0m\u001b[0;32m    980\u001b[0m \u001b[1;33m\u001b[0m\u001b[0m\n\u001b[0;32m    981\u001b[0m             \u001b[1;31m# list of bools indicating if each output is connected to the cost\u001b[0m\u001b[1;33m\u001b[0m\u001b[1;33m\u001b[0m\u001b[0m\n",
      "\u001b[1;32m/usr/lib/python2.7/site-packages/Theano-0.7.0-py2.7.egg/theano/gradient.pyc\u001b[0m in \u001b[0;36maccess_grad_cache\u001b[1;34m(var)\u001b[0m\n\u001b[0;32m   1283\u001b[0m                     \u001b[1;32mfor\u001b[0m \u001b[0midx\u001b[0m \u001b[1;32min\u001b[0m \u001b[0mnode_to_idx\u001b[0m\u001b[1;33m[\u001b[0m\u001b[0mnode\u001b[0m\u001b[1;33m]\u001b[0m\u001b[1;33m:\u001b[0m\u001b[1;33m\u001b[0m\u001b[0m\n\u001b[0;32m   1284\u001b[0m \u001b[1;33m\u001b[0m\u001b[0m\n\u001b[1;32m-> 1285\u001b[1;33m                         \u001b[0mterm\u001b[0m \u001b[1;33m=\u001b[0m \u001b[0maccess_term_cache\u001b[0m\u001b[1;33m(\u001b[0m\u001b[0mnode\u001b[0m\u001b[1;33m)\u001b[0m\u001b[1;33m[\u001b[0m\u001b[0midx\u001b[0m\u001b[1;33m]\u001b[0m\u001b[1;33m\u001b[0m\u001b[0m\n\u001b[0m\u001b[0;32m   1286\u001b[0m \u001b[1;33m\u001b[0m\u001b[0m\n\u001b[0;32m   1287\u001b[0m                         \u001b[1;32mif\u001b[0m \u001b[1;32mnot\u001b[0m \u001b[0misinstance\u001b[0m\u001b[1;33m(\u001b[0m\u001b[0mterm\u001b[0m\u001b[1;33m,\u001b[0m \u001b[0mgof\u001b[0m\u001b[1;33m.\u001b[0m\u001b[0mVariable\u001b[0m\u001b[1;33m)\u001b[0m\u001b[1;33m:\u001b[0m\u001b[1;33m\u001b[0m\u001b[0m\n",
      "\u001b[1;32m/usr/lib/python2.7/site-packages/Theano-0.7.0-py2.7.egg/theano/gradient.pyc\u001b[0m in \u001b[0;36maccess_term_cache\u001b[1;34m(node)\u001b[0m\n\u001b[0;32m   1117\u001b[0m                                 str(g_shape))\n\u001b[0;32m   1118\u001b[0m \u001b[1;33m\u001b[0m\u001b[0m\n\u001b[1;32m-> 1119\u001b[1;33m                 \u001b[0minput_grads\u001b[0m \u001b[1;33m=\u001b[0m \u001b[0mnode\u001b[0m\u001b[1;33m.\u001b[0m\u001b[0mop\u001b[0m\u001b[1;33m.\u001b[0m\u001b[0mgrad\u001b[0m\u001b[1;33m(\u001b[0m\u001b[0minputs\u001b[0m\u001b[1;33m,\u001b[0m \u001b[0mnew_output_grads\u001b[0m\u001b[1;33m)\u001b[0m\u001b[1;33m\u001b[0m\u001b[0m\n\u001b[0m\u001b[0;32m   1120\u001b[0m \u001b[1;33m\u001b[0m\u001b[0m\n\u001b[0;32m   1121\u001b[0m                 \u001b[1;32mif\u001b[0m \u001b[0minput_grads\u001b[0m \u001b[1;32mis\u001b[0m \u001b[0mNone\u001b[0m\u001b[1;33m:\u001b[0m\u001b[1;33m\u001b[0m\u001b[0m\n",
      "\u001b[1;32m/usr/lib/python2.7/site-packages/Theano-0.7.0-py2.7.egg/theano/tensor/elemwise.pyc\u001b[0m in \u001b[0;36mgrad\u001b[1;34m(self, inp, grads)\u001b[0m\n\u001b[0;32m    409\u001b[0m             \u001b[1;32mreturn\u001b[0m \u001b[1;33m[\u001b[0m\u001b[0minp\u001b[0m\u001b[1;33m[\u001b[0m\u001b[1;36m0\u001b[0m\u001b[1;33m]\u001b[0m\u001b[1;33m.\u001b[0m\u001b[0mzeros_like\u001b[0m\u001b[1;33m(\u001b[0m\u001b[0mdtype\u001b[0m\u001b[1;33m=\u001b[0m\u001b[0mtheano\u001b[0m\u001b[1;33m.\u001b[0m\u001b[0mconfig\u001b[0m\u001b[1;33m.\u001b[0m\u001b[0mfloatX\u001b[0m\u001b[1;33m)\u001b[0m\u001b[1;33m]\u001b[0m\u001b[1;33m\u001b[0m\u001b[0m\n\u001b[0;32m    410\u001b[0m         \u001b[1;32melse\u001b[0m\u001b[1;33m:\u001b[0m\u001b[1;33m\u001b[0m\u001b[0m\n\u001b[1;32m--> 411\u001b[1;33m             return [DimShuffle(gz.type.broadcastable, grad_order)(\n\u001b[0m\u001b[0;32m    412\u001b[0m                 Elemwise(scalar.identity)(gz))]\n\u001b[0;32m    413\u001b[0m \u001b[1;33m\u001b[0m\u001b[0m\n",
      "\u001b[1;32m/usr/lib/python2.7/site-packages/Theano-0.7.0-py2.7.egg/theano/tensor/elemwise.pyc\u001b[0m in \u001b[0;36m__init__\u001b[1;34m(self, input_broadcastable, new_order, inplace)\u001b[0m\n\u001b[0;32m    161\u001b[0m                     raise ValueError(\n\u001b[0;32m    162\u001b[0m                         \u001b[1;34m\"You cannot drop a non-broadcastable dimension.\"\u001b[0m\u001b[1;33m,\u001b[0m\u001b[1;33m\u001b[0m\u001b[0m\n\u001b[1;32m--> 163\u001b[1;33m                         (input_broadcastable, new_order))\n\u001b[0m\u001b[0;32m    164\u001b[0m \u001b[1;33m\u001b[0m\u001b[0m\n\u001b[0;32m    165\u001b[0m         \u001b[1;31m# this is the list of the original dimensions that we keep\u001b[0m\u001b[1;33m\u001b[0m\u001b[1;33m\u001b[0m\u001b[0m\n",
      "\u001b[1;31mValueError\u001b[0m: ('You cannot drop a non-broadcastable dimension.', ((False, False, False, False, False), (0, 4, 1, 2)))"
     ]
    }
   ],
   "source": [
    "def get_conv_out_dim(img_shape, conv_shape):\n",
    "    img_row, img_col = img_shape\n",
    "    nr_filters, nr_channels, filter_row, filter_col, stride_row, stride_col = conv_shape\n",
    "    output_dim = ((img_row - filter_row) / stride_row + 1) * ((img_col - filter_col) / stride_col + 1) * nr_filters * 1\n",
    "    return output_dim\n",
    "\n",
    "def get_conv_out_shape(img_shape, conv_shape):\n",
    "    img_row, img_col = img_shape\n",
    "    nr_filters, nr_channels, filter_row, filter_col, stride_row, stride_col = conv_shape\n",
    "    return (((img_row - filter_row) / stride_row + 1), ((img_col - filter_col) / stride_col + 1))\n",
    "\n",
    "def _step(cur_in):\n",
    "    \n",
    "    conv1_shape = (32, 1, 5, 5, 2, 2)\n",
    "    conv1_h = model.conv(cur_in = cur_in, name = 'conv1', shape=conv1_shape)\n",
    "    conv1_out_shape = get_conv_out_shape(img_shape, conv1_shape)\n",
    "    conv2_shape = (32, 32, 5, 5, 2, 2)\n",
    "    conv2_out_dim = get_conv_out_dim(conv1_out_shape, conv2_shape)\n",
    "    conv2_h = model.conv(cur_in = conv1_h, name = 'conv2', shape=conv2_shape)\n",
    "    fc1 = model.fc(cur_in = conv2_h.flatten(2), name = 'fc1', shape=(conv2_out_dim, 100))\n",
    "    fc2 = model.fc(cur_in = fc1, name = 'fc2', shape=(100, out_dim))\n",
    "    return fc2\n",
    "    \n",
    "\n",
    "img_shape = (100, 100)\n",
    "out_dim = 10\n",
    "model = Model()\n",
    "img_in = T.tensor4()\n",
    "seg_img = T.tensor4()\n",
    "img_tar = T.matrix()\n",
    "img_out = _step(img_in)\n",
    "_EPSI = 1e-6\n",
    "cost = T.mean(T.sum(NN.binary_crossentropy(T.clip(img_out, _EPSI, 1.0 - _EPSI), img_tar), axis=1))\n",
    "cost_cls = cost \n",
    "cost_sal = [None]*10\n",
    "for i in xrange(10):\n",
    "    sal_img = T.grad(T.sum(img_out[:,i]), img_in)\n",
    "    sal_img = sal_img / (T.sum(sal_img)+_EPSI)\n",
    "    cost_sal[i] = T.mean((sal_img-seg_img[:,i:i+1])**2)\n",
    "    cost += cost_sal[i]\n",
    "    \n",
    "#test_func = theano.function([img_in, img_tar, seg_img], cost, allow_input_downcast=True)\n",
    "train_func = theano.function([img_in, img_tar, seg_img], [cost_cls, cost, img_out], updates=rmsprop(cost, model.weightsPack.getW_list()), allow_input_downcast=True)\n",
    "#predict_func = theano.function([img_in], img_out, allow_input_downcast=True)"
   ]
  },
  {
   "cell_type": "code",
   "execution_count": 30,
   "metadata": {
    "collapsed": false
   },
   "outputs": [],
   "source": [
    "tt = test_func(data, label, seg)"
   ]
  },
  {
   "cell_type": "code",
   "execution_count": 48,
   "metadata": {
    "collapsed": false
   },
   "outputs": [
    {
     "ename": "ValueError",
     "evalue": "('You cannot drop a non-broadcastable dimension.', ((False, False, False, False, False), (0, 4, 1, 2)))",
     "output_type": "error",
     "traceback": [
      "\u001b[1;31m---------------------------------------------------------------------------\u001b[0m",
      "\u001b[1;31mValueError\u001b[0m                                Traceback (most recent call last)",
      "\u001b[1;32m<ipython-input-48-aa0c37243a9e>\u001b[0m in \u001b[0;36m<module>\u001b[1;34m()\u001b[0m\n\u001b[1;32m----> 1\u001b[1;33m \u001b[0mT\u001b[0m\u001b[1;33m.\u001b[0m\u001b[0mgrad\u001b[0m\u001b[1;33m(\u001b[0m\u001b[0mcost\u001b[0m\u001b[1;33m,\u001b[0m \u001b[0mmodel\u001b[0m\u001b[1;33m.\u001b[0m\u001b[0mweightsPack\u001b[0m\u001b[1;33m.\u001b[0m\u001b[0mgetW_list\u001b[0m\u001b[1;33m(\u001b[0m\u001b[1;33m)\u001b[0m\u001b[1;33m)\u001b[0m\u001b[1;33m\u001b[0m\u001b[0m\n\u001b[0m",
      "\u001b[1;32m/usr/lib/python2.7/site-packages/Theano-0.7.0-py2.7.egg/theano/gradient.pyc\u001b[0m in \u001b[0;36mgrad\u001b[1;34m(cost, wrt, consider_constant, disconnected_inputs, add_names, known_grads, return_disconnected, null_gradients)\u001b[0m\n\u001b[0;32m    565\u001b[0m \u001b[1;33m\u001b[0m\u001b[0m\n\u001b[0;32m    566\u001b[0m     rval = _populate_grad_dict(var_to_app_to_idx,\n\u001b[1;32m--> 567\u001b[1;33m                                grad_dict, wrt, cost_name)\n\u001b[0m\u001b[0;32m    568\u001b[0m \u001b[1;33m\u001b[0m\u001b[0m\n\u001b[0;32m    569\u001b[0m     \u001b[1;32mfor\u001b[0m \u001b[0mi\u001b[0m \u001b[1;32min\u001b[0m \u001b[0mxrange\u001b[0m\u001b[1;33m(\u001b[0m\u001b[0mlen\u001b[0m\u001b[1;33m(\u001b[0m\u001b[0mrval\u001b[0m\u001b[1;33m)\u001b[0m\u001b[1;33m)\u001b[0m\u001b[1;33m:\u001b[0m\u001b[1;33m\u001b[0m\u001b[0m\n",
      "\u001b[1;32m/usr/lib/python2.7/site-packages/Theano-0.7.0-py2.7.egg/theano/gradient.pyc\u001b[0m in \u001b[0;36m_populate_grad_dict\u001b[1;34m(var_to_app_to_idx, grad_dict, wrt, cost_name)\u001b[0m\n\u001b[0;32m   1328\u001b[0m         \u001b[1;32mreturn\u001b[0m \u001b[0mgrad_dict\u001b[0m\u001b[1;33m[\u001b[0m\u001b[0mvar\u001b[0m\u001b[1;33m]\u001b[0m\u001b[1;33m\u001b[0m\u001b[0m\n\u001b[0;32m   1329\u001b[0m \u001b[1;33m\u001b[0m\u001b[0m\n\u001b[1;32m-> 1330\u001b[1;33m     \u001b[0mrval\u001b[0m \u001b[1;33m=\u001b[0m \u001b[1;33m[\u001b[0m\u001b[0maccess_grad_cache\u001b[0m\u001b[1;33m(\u001b[0m\u001b[0melem\u001b[0m\u001b[1;33m)\u001b[0m \u001b[1;32mfor\u001b[0m \u001b[0melem\u001b[0m \u001b[1;32min\u001b[0m \u001b[0mwrt\u001b[0m\u001b[1;33m]\u001b[0m\u001b[1;33m\u001b[0m\u001b[0m\n\u001b[0m\u001b[0;32m   1331\u001b[0m \u001b[1;33m\u001b[0m\u001b[0m\n\u001b[0;32m   1332\u001b[0m     \u001b[1;32mreturn\u001b[0m \u001b[0mrval\u001b[0m\u001b[1;33m\u001b[0m\u001b[0m\n",
      "\u001b[1;32m/usr/lib/python2.7/site-packages/Theano-0.7.0-py2.7.egg/theano/gradient.pyc\u001b[0m in \u001b[0;36maccess_grad_cache\u001b[1;34m(var)\u001b[0m\n\u001b[0;32m   1283\u001b[0m                     \u001b[1;32mfor\u001b[0m \u001b[0midx\u001b[0m \u001b[1;32min\u001b[0m \u001b[0mnode_to_idx\u001b[0m\u001b[1;33m[\u001b[0m\u001b[0mnode\u001b[0m\u001b[1;33m]\u001b[0m\u001b[1;33m:\u001b[0m\u001b[1;33m\u001b[0m\u001b[0m\n\u001b[0;32m   1284\u001b[0m \u001b[1;33m\u001b[0m\u001b[0m\n\u001b[1;32m-> 1285\u001b[1;33m                         \u001b[0mterm\u001b[0m \u001b[1;33m=\u001b[0m \u001b[0maccess_term_cache\u001b[0m\u001b[1;33m(\u001b[0m\u001b[0mnode\u001b[0m\u001b[1;33m)\u001b[0m\u001b[1;33m[\u001b[0m\u001b[0midx\u001b[0m\u001b[1;33m]\u001b[0m\u001b[1;33m\u001b[0m\u001b[0m\n\u001b[0m\u001b[0;32m   1286\u001b[0m \u001b[1;33m\u001b[0m\u001b[0m\n\u001b[0;32m   1287\u001b[0m                         \u001b[1;32mif\u001b[0m \u001b[1;32mnot\u001b[0m \u001b[0misinstance\u001b[0m\u001b[1;33m(\u001b[0m\u001b[0mterm\u001b[0m\u001b[1;33m,\u001b[0m \u001b[0mgof\u001b[0m\u001b[1;33m.\u001b[0m\u001b[0mVariable\u001b[0m\u001b[1;33m)\u001b[0m\u001b[1;33m:\u001b[0m\u001b[1;33m\u001b[0m\u001b[0m\n",
      "\u001b[1;32m/usr/lib/python2.7/site-packages/Theano-0.7.0-py2.7.egg/theano/gradient.pyc\u001b[0m in \u001b[0;36maccess_term_cache\u001b[1;34m(node)\u001b[0m\n\u001b[0;32m    977\u001b[0m             \u001b[0minputs\u001b[0m \u001b[1;33m=\u001b[0m \u001b[0mnode\u001b[0m\u001b[1;33m.\u001b[0m\u001b[0minputs\u001b[0m\u001b[1;33m\u001b[0m\u001b[0m\n\u001b[0;32m    978\u001b[0m \u001b[1;33m\u001b[0m\u001b[0m\n\u001b[1;32m--> 979\u001b[1;33m             \u001b[0moutput_grads\u001b[0m \u001b[1;33m=\u001b[0m \u001b[1;33m[\u001b[0m\u001b[0maccess_grad_cache\u001b[0m\u001b[1;33m(\u001b[0m\u001b[0mvar\u001b[0m\u001b[1;33m)\u001b[0m \u001b[1;32mfor\u001b[0m \u001b[0mvar\u001b[0m \u001b[1;32min\u001b[0m \u001b[0mnode\u001b[0m\u001b[1;33m.\u001b[0m\u001b[0moutputs\u001b[0m\u001b[1;33m]\u001b[0m\u001b[1;33m\u001b[0m\u001b[0m\n\u001b[0m\u001b[0;32m    980\u001b[0m \u001b[1;33m\u001b[0m\u001b[0m\n\u001b[0;32m    981\u001b[0m             \u001b[1;31m# list of bools indicating if each output is connected to the cost\u001b[0m\u001b[1;33m\u001b[0m\u001b[1;33m\u001b[0m\u001b[0m\n",
      "\u001b[1;32m/usr/lib/python2.7/site-packages/Theano-0.7.0-py2.7.egg/theano/gradient.pyc\u001b[0m in \u001b[0;36maccess_grad_cache\u001b[1;34m(var)\u001b[0m\n\u001b[0;32m   1283\u001b[0m                     \u001b[1;32mfor\u001b[0m \u001b[0midx\u001b[0m \u001b[1;32min\u001b[0m \u001b[0mnode_to_idx\u001b[0m\u001b[1;33m[\u001b[0m\u001b[0mnode\u001b[0m\u001b[1;33m]\u001b[0m\u001b[1;33m:\u001b[0m\u001b[1;33m\u001b[0m\u001b[0m\n\u001b[0;32m   1284\u001b[0m \u001b[1;33m\u001b[0m\u001b[0m\n\u001b[1;32m-> 1285\u001b[1;33m                         \u001b[0mterm\u001b[0m \u001b[1;33m=\u001b[0m \u001b[0maccess_term_cache\u001b[0m\u001b[1;33m(\u001b[0m\u001b[0mnode\u001b[0m\u001b[1;33m)\u001b[0m\u001b[1;33m[\u001b[0m\u001b[0midx\u001b[0m\u001b[1;33m]\u001b[0m\u001b[1;33m\u001b[0m\u001b[0m\n\u001b[0m\u001b[0;32m   1286\u001b[0m \u001b[1;33m\u001b[0m\u001b[0m\n\u001b[0;32m   1287\u001b[0m                         \u001b[1;32mif\u001b[0m \u001b[1;32mnot\u001b[0m \u001b[0misinstance\u001b[0m\u001b[1;33m(\u001b[0m\u001b[0mterm\u001b[0m\u001b[1;33m,\u001b[0m \u001b[0mgof\u001b[0m\u001b[1;33m.\u001b[0m\u001b[0mVariable\u001b[0m\u001b[1;33m)\u001b[0m\u001b[1;33m:\u001b[0m\u001b[1;33m\u001b[0m\u001b[0m\n",
      "\u001b[1;32m/usr/lib/python2.7/site-packages/Theano-0.7.0-py2.7.egg/theano/gradient.pyc\u001b[0m in \u001b[0;36maccess_term_cache\u001b[1;34m(node)\u001b[0m\n\u001b[0;32m    977\u001b[0m             \u001b[0minputs\u001b[0m \u001b[1;33m=\u001b[0m \u001b[0mnode\u001b[0m\u001b[1;33m.\u001b[0m\u001b[0minputs\u001b[0m\u001b[1;33m\u001b[0m\u001b[0m\n\u001b[0;32m    978\u001b[0m \u001b[1;33m\u001b[0m\u001b[0m\n\u001b[1;32m--> 979\u001b[1;33m             \u001b[0moutput_grads\u001b[0m \u001b[1;33m=\u001b[0m \u001b[1;33m[\u001b[0m\u001b[0maccess_grad_cache\u001b[0m\u001b[1;33m(\u001b[0m\u001b[0mvar\u001b[0m\u001b[1;33m)\u001b[0m \u001b[1;32mfor\u001b[0m \u001b[0mvar\u001b[0m \u001b[1;32min\u001b[0m \u001b[0mnode\u001b[0m\u001b[1;33m.\u001b[0m\u001b[0moutputs\u001b[0m\u001b[1;33m]\u001b[0m\u001b[1;33m\u001b[0m\u001b[0m\n\u001b[0m\u001b[0;32m    980\u001b[0m \u001b[1;33m\u001b[0m\u001b[0m\n\u001b[0;32m    981\u001b[0m             \u001b[1;31m# list of bools indicating if each output is connected to the cost\u001b[0m\u001b[1;33m\u001b[0m\u001b[1;33m\u001b[0m\u001b[0m\n",
      "\u001b[1;32m/usr/lib/python2.7/site-packages/Theano-0.7.0-py2.7.egg/theano/gradient.pyc\u001b[0m in \u001b[0;36maccess_grad_cache\u001b[1;34m(var)\u001b[0m\n\u001b[0;32m   1283\u001b[0m                     \u001b[1;32mfor\u001b[0m \u001b[0midx\u001b[0m \u001b[1;32min\u001b[0m \u001b[0mnode_to_idx\u001b[0m\u001b[1;33m[\u001b[0m\u001b[0mnode\u001b[0m\u001b[1;33m]\u001b[0m\u001b[1;33m:\u001b[0m\u001b[1;33m\u001b[0m\u001b[0m\n\u001b[0;32m   1284\u001b[0m \u001b[1;33m\u001b[0m\u001b[0m\n\u001b[1;32m-> 1285\u001b[1;33m                         \u001b[0mterm\u001b[0m \u001b[1;33m=\u001b[0m \u001b[0maccess_term_cache\u001b[0m\u001b[1;33m(\u001b[0m\u001b[0mnode\u001b[0m\u001b[1;33m)\u001b[0m\u001b[1;33m[\u001b[0m\u001b[0midx\u001b[0m\u001b[1;33m]\u001b[0m\u001b[1;33m\u001b[0m\u001b[0m\n\u001b[0m\u001b[0;32m   1286\u001b[0m \u001b[1;33m\u001b[0m\u001b[0m\n\u001b[0;32m   1287\u001b[0m                         \u001b[1;32mif\u001b[0m \u001b[1;32mnot\u001b[0m \u001b[0misinstance\u001b[0m\u001b[1;33m(\u001b[0m\u001b[0mterm\u001b[0m\u001b[1;33m,\u001b[0m \u001b[0mgof\u001b[0m\u001b[1;33m.\u001b[0m\u001b[0mVariable\u001b[0m\u001b[1;33m)\u001b[0m\u001b[1;33m:\u001b[0m\u001b[1;33m\u001b[0m\u001b[0m\n",
      "\u001b[1;32m/usr/lib/python2.7/site-packages/Theano-0.7.0-py2.7.egg/theano/gradient.pyc\u001b[0m in \u001b[0;36maccess_term_cache\u001b[1;34m(node)\u001b[0m\n\u001b[0;32m   1117\u001b[0m                                 str(g_shape))\n\u001b[0;32m   1118\u001b[0m \u001b[1;33m\u001b[0m\u001b[0m\n\u001b[1;32m-> 1119\u001b[1;33m                 \u001b[0minput_grads\u001b[0m \u001b[1;33m=\u001b[0m \u001b[0mnode\u001b[0m\u001b[1;33m.\u001b[0m\u001b[0mop\u001b[0m\u001b[1;33m.\u001b[0m\u001b[0mgrad\u001b[0m\u001b[1;33m(\u001b[0m\u001b[0minputs\u001b[0m\u001b[1;33m,\u001b[0m \u001b[0mnew_output_grads\u001b[0m\u001b[1;33m)\u001b[0m\u001b[1;33m\u001b[0m\u001b[0m\n\u001b[0m\u001b[0;32m   1120\u001b[0m \u001b[1;33m\u001b[0m\u001b[0m\n\u001b[0;32m   1121\u001b[0m                 \u001b[1;32mif\u001b[0m \u001b[0minput_grads\u001b[0m \u001b[1;32mis\u001b[0m \u001b[0mNone\u001b[0m\u001b[1;33m:\u001b[0m\u001b[1;33m\u001b[0m\u001b[0m\n",
      "\u001b[1;32m/usr/lib/python2.7/site-packages/Theano-0.7.0-py2.7.egg/theano/tensor/elemwise.pyc\u001b[0m in \u001b[0;36mgrad\u001b[1;34m(self, inp, grads)\u001b[0m\n\u001b[0;32m    409\u001b[0m             \u001b[1;32mreturn\u001b[0m \u001b[1;33m[\u001b[0m\u001b[0minp\u001b[0m\u001b[1;33m[\u001b[0m\u001b[1;36m0\u001b[0m\u001b[1;33m]\u001b[0m\u001b[1;33m.\u001b[0m\u001b[0mzeros_like\u001b[0m\u001b[1;33m(\u001b[0m\u001b[0mdtype\u001b[0m\u001b[1;33m=\u001b[0m\u001b[0mtheano\u001b[0m\u001b[1;33m.\u001b[0m\u001b[0mconfig\u001b[0m\u001b[1;33m.\u001b[0m\u001b[0mfloatX\u001b[0m\u001b[1;33m)\u001b[0m\u001b[1;33m]\u001b[0m\u001b[1;33m\u001b[0m\u001b[0m\n\u001b[0;32m    410\u001b[0m         \u001b[1;32melse\u001b[0m\u001b[1;33m:\u001b[0m\u001b[1;33m\u001b[0m\u001b[0m\n\u001b[1;32m--> 411\u001b[1;33m             return [DimShuffle(gz.type.broadcastable, grad_order)(\n\u001b[0m\u001b[0;32m    412\u001b[0m                 Elemwise(scalar.identity)(gz))]\n\u001b[0;32m    413\u001b[0m \u001b[1;33m\u001b[0m\u001b[0m\n",
      "\u001b[1;32m/usr/lib/python2.7/site-packages/Theano-0.7.0-py2.7.egg/theano/tensor/elemwise.pyc\u001b[0m in \u001b[0;36m__init__\u001b[1;34m(self, input_broadcastable, new_order, inplace)\u001b[0m\n\u001b[0;32m    161\u001b[0m                     raise ValueError(\n\u001b[0;32m    162\u001b[0m                         \u001b[1;34m\"You cannot drop a non-broadcastable dimension.\"\u001b[0m\u001b[1;33m,\u001b[0m\u001b[1;33m\u001b[0m\u001b[0m\n\u001b[1;32m--> 163\u001b[1;33m                         (input_broadcastable, new_order))\n\u001b[0m\u001b[0;32m    164\u001b[0m \u001b[1;33m\u001b[0m\u001b[0m\n\u001b[0;32m    165\u001b[0m         \u001b[1;31m# this is the list of the original dimensions that we keep\u001b[0m\u001b[1;33m\u001b[0m\u001b[1;33m\u001b[0m\u001b[0m\n",
      "\u001b[1;31mValueError\u001b[0m: ('You cannot drop a non-broadcastable dimension.', ((False, False, False, False, False), (0, 4, 1, 2)))"
     ]
    }
   ],
   "source": [
    "T.grad(cost, model.weightsPack.getW_list())"
   ]
  },
  {
   "cell_type": "code",
   "execution_count": 36,
   "metadata": {
    "collapsed": false
   },
   "outputs": [
    {
     "data": {
      "text/plain": [
       "['conv2', 'conv1', 'fc2', 'fc1']"
      ]
     },
     "execution_count": 36,
     "metadata": {},
     "output_type": "execute_result"
    }
   ],
   "source": [
    "model.layersPack.keys()"
   ]
  },
  {
   "cell_type": "code",
   "execution_count": 11,
   "metadata": {
    "collapsed": false
   },
   "outputs": [
    {
     "name": "stderr",
     "output_type": "stream",
     "text": [
      "/usr/lib64/python2.7/site-packages/scipy/ndimage/interpolation.py:549: UserWarning: From scipy 0.13.0, the output shape of zoom() is calculated with round() instead of int() - for these inputs the size of the returned array has changed.\n",
      "  \"the returned array has changed.\", UserWarning)\n"
     ]
    }
   ],
   "source": [
    "data, label, seg=bmnist.GetStaticBatch(num_digits=RNG.randint(5))"
   ]
  },
  {
   "cell_type": "code",
   "execution_count": 19,
   "metadata": {
    "collapsed": false
   },
   "outputs": [
    {
     "name": "stdout",
     "output_type": "stream",
     "text": [
      "15488\n"
     ]
    }
   ],
   "source": [
    "conv1_shape = (32, 1, 5, 5, 2, 2)\n",
    "conv1_out_shape = get_conv_out_shape(img_shape, conv1_shape)\n",
    "conv2_shape = (32, 32, 5, 5, 2, 2)\n",
    "conv2_out_dim = get_conv_out_dim(conv1_out_shape, conv2_shape)\n",
    "print conv2_out_dim/32"
   ]
  },
  {
   "cell_type": "code",
   "execution_count": null,
   "metadata": {
    "collapsed": true
   },
   "outputs": [],
   "source": [
    "def get_conv_out_dim(img_shape, conv_shape):\n",
    "    img_row, img_col = img_shape\n",
    "    nr_filters, nr_channels, filter_row, filter_col, stride_row, stride_col = conv_shape\n",
    "    output_dim = ((img_row - filter_row) / stride_row + 1) * ((img_col - filter_col) / stride_col + 1) * nr_filters * nr_channels\n",
    "    return output_dim\n",
    "\n",
    "def get_conv_out_shape(img_shape, conv_shape):\n",
    "    img_row, img_col = img_shape\n",
    "    nr_filters, nr_channels, filter_row, filter_col, stride_row, stride_col = conv_shape\n",
    "    return (((img_row - filter_row) / stride_row + 1), ((img_col - filter_col) / stride_col + 1))"
   ]
  },
  {
   "cell_type": "code",
   "execution_count": null,
   "metadata": {
    "collapsed": false
   },
   "outputs": [],
   "source": [
    "from ipy_progressbar import ProgressBar\n",
    "for i in xrange(10):\n",
    "    #pb = ProgressBar(500, title='Epoch '+str(i), key='outer')\n",
    "    #for j in pb:\n",
    "    for j in xrange(500):\n",
    "        data, label, seg=bmnist.GetStaticBatch(num_digits=RNG.randint(5))\n",
    "        n_cost_cls, n_cost, _ = train_func(data, label, seg) \n",
    "        print 'Epoch = ', str(i), ' Batch = ', str(j), ' Cost CLS = ', n_cost_cls, ' Cost SUM = ', n_cost\n",
    "        #pb_inner = ProgressBar(1, title='Inner', key='inner')\n",
    "    print 'Epoch = ', str(i), ' Cost = ', n_cost\n",
    "    "
   ]
  },
  {
   "cell_type": "code",
   "execution_count": null,
   "metadata": {
    "collapsed": false
   },
   "outputs": [],
   "source": [
    "NP.shape(seg)"
   ]
  },
  {
   "cell_type": "code",
   "execution_count": null,
   "metadata": {
    "collapsed": false
   },
   "outputs": [],
   "source": [
    "help(print)"
   ]
  },
  {
   "cell_type": "code",
   "execution_count": null,
   "metadata": {
    "collapsed": false
   },
   "outputs": [],
   "source": [
    "label[4]"
   ]
  },
  {
   "cell_type": "code",
   "execution_count": null,
   "metadata": {
    "collapsed": false
   },
   "outputs": [],
   "source": [
    "np.mean(seg[4][6])"
   ]
  },
  {
   "cell_type": "code",
   "execution_count": null,
   "metadata": {
    "collapsed": false
   },
   "outputs": [],
   "source": [
    "plt.imshow(data[4][0])\n",
    "plt.show()\n",
    "plt.imshow(seg[4][7])\n",
    "plt.show()"
   ]
  },
  {
   "cell_type": "code",
   "execution_count": null,
   "metadata": {
    "collapsed": true
   },
   "outputs": [],
   "source": []
  },
  {
   "cell_type": "code",
   "execution_count": null,
   "metadata": {
    "collapsed": false
   },
   "outputs": [],
   "source": []
  },
  {
   "cell_type": "code",
   "execution_count": null,
   "metadata": {
    "collapsed": false
   },
   "outputs": [],
   "source": [
    "''' \n",
    "load data \n",
    "'''\n",
    "in_dim = 49\n",
    "out_dim = 49\n",
    "batch_size = 16\n",
    "\n",
    "X_train, Y_train=dataUtils.read_txt('ptb.train.txt')\n",
    "#X_test, Y_test=dataUtils.read_txt('ptb.test.txt')\n"
   ]
  },
  {
   "cell_type": "code",
   "execution_count": null,
   "metadata": {
    "collapsed": false
   },
   "outputs": [],
   "source": [
    "def _step(trash, cur_in, rec_in1, rec_in2, rec_in3):\n",
    "    \n",
    "    gru1_h = model.gru(cur_in = cur_in, rec_in = rec_in1, name='gru1', shape=(in_dim, 20))\n",
    "    gru2_h = model.gru(cur_in = gru1_h, rec_in = rec_in2, name='gru2', shape=(20, 20))\n",
    "    gru3_h = model.gru(cur_in = gru2_h, rec_in = rec_in3, name='gru3', shape=(20, 20))\n",
    "    merge = T.concatenate([gru1_h, gru2_h, gru3_h], axis=1)\n",
    "    fc1 = model.fc(cur_in = merge, name='fc1', shape=(60, out_dim))\n",
    "    return [fc1] + [gru1_h, gru2_h, gru3_h]\n",
    "    \n",
    "model = Model()\n",
    "char_in = T.tensor3()\n",
    "char_tar = T.tensor3()\n",
    "_char_in = char_in.dimshuffle(1, 0, 2)\n",
    "starts = T.matrix()\n",
    "\n",
    "sc, _ = theano.scan(_step, sequences=[_char_in], outputs_info=[starts, T.zeros((char_in.shape[0], 20)), T.zeros((char_in.shape[0], 20)), T.zeros((char_in.shape[0], 20))])\n",
    "char_out = sc[0].dimshuffle(1, 0, 2)\n",
    "_EPSI = 1e-6\n",
    "cost = T.mean(T.sum(NN.binary_crossentropy(T.clip(char_out, _EPSI, 1.0 - _EPSI), char_tar), axis=2))\n",
    "\n",
    "#cost = T.mean(T.sum((char_tar - char_out) ** 2, axis=2))\n",
    "train_func = theano.function([char_in, starts, char_tar], [cost, char_out], updates=rmsprop(cost, model.weightsPack.getW_list()), allow_input_downcast=True)\n",
    "predict_func = theano.function([char_in, starts], char_out, allow_input_downcast=True)"
   ]
  },
  {
   "cell_type": "code",
   "execution_count": null,
   "metadata": {
    "collapsed": false
   },
   "outputs": [],
   "source": [
    "def _step(cur_in, trash, rec_in1, rec_in2, rec_in3):\n",
    "    \n",
    "    gru1_h = model2.gru(cur_in = cur_in, rec_in = rec_in1, name='gru1', shape=(in_dim, 100))\n",
    "    gru2_h = model2.gru(cur_in = gru1_h, rec_in = rec_in2, name='gru2', shape=(100, 100))\n",
    "    gru3_h = model2.gru(cur_in = gru2_h, rec_in = rec_in3, name='gru3', shape=(100, 100))\n",
    "    merge = T.concatenate([gru1_h, gru2_h, gru3_h], axis=1)\n",
    "    fc1 = model.fc(cur_in = merge, name='fc1', shape=(60, out_dim))\n",
    "    return [fc1] + [gru1_h, gru2_h, gru3_h]\n",
    "    \n",
    "model2 = Model()\n",
    "\n",
    "\n",
    "char_in = T.tensor3()\n",
    "char_tar = T.tensor3()\n",
    "_char_in = char_in.dimshuffle(1, 0, 2)\n",
    "starts = T.matrix()\n",
    "\n",
    "sc, _ = theano.scan(_step, sequences=[_char_in], outputs_info=[starts, T.zeros((char_in.shape[0], 20)), T.zeros((char_in.shape[0], 20)), T.zeros((char_in.shape[0], 20))])\n",
    "char_out = sc[0].dimshuffle(1, 0, 2)\n",
    "\n",
    "#cost = T.mean(T.sum((char_tar - char_out) ** 2, axis=2))\n",
    "\n",
    "#train_func = theano.function([char_in, starts, char_tar], [cost, char_out], updates=rmsprop(cost, model.weightsPack.getW_list()), allow_input_downcast=True)\n",
    "#Jpredict_func = theano.function([char_in, starts], char_out, allow_input_downcast=True)\n",
    "jacobi = T.jacobian(char_out[0, :50, 0:3].flatten(), char_in)\n",
    "jacobi_func = theano.function([char_in, starts], jacobi, allow_input_downcast=True)"
   ]
  },
  {
   "cell_type": "code",
   "execution_count": null,
   "metadata": {
    "collapsed": true
   },
   "outputs": [],
   "source": [
    "model2.weightsPack = model.weightsPack\n",
    "model2.layersPack = model.layersPack"
   ]
  },
  {
   "cell_type": "code",
   "execution_count": null,
   "metadata": {
    "collapsed": false
   },
   "outputs": [],
   "source": [
    "str(0.5555)"
   ]
  },
  {
   "cell_type": "code",
   "execution_count": null,
   "metadata": {
    "collapsed": false
   },
   "outputs": [],
   "source": [
    "pb = ProgressBar(40000, title='Epoch '+str(1), key='outer')\n",
    "for i in pb:\n",
    "    pb_inner = ProgressBar(1, title='Inner', key='inner')"
   ]
  },
  {
   "cell_type": "code",
   "execution_count": null,
   "metadata": {
    "collapsed": false
   },
   "outputs": [],
   "source": [
    "len(X_train)"
   ]
  },
  {
   "cell_type": "code",
   "execution_count": null,
   "metadata": {
    "collapsed": false
   },
   "outputs": [],
   "source": [
    "\n",
    "batch_size = 64\n",
    "pb = ProgressBar(len(X_train), title='Epoch '+str(i), key='outer')\n",
    "for i in xrange(10):\n",
    "    print 'epoch ', i\n",
    "\n",
    "    for j in xrange(len(X_train)/batch_size):\n",
    "        train_cost, _ = train_func(X_train[j*batch_size:(j+1)*batch_size], X_train[j*batch_size:(j+1)*batch_size,0], Y_train[j*batch_size:(j+1)*batch_size]) \n",
    "        pb_inner = ProgressBar(1, title='Inner', key='inner')"
   ]
  },
  {
   "cell_type": "code",
   "execution_count": null,
   "metadata": {
    "collapsed": false
   },
   "outputs": [],
   "source": [
    "J_predict = predict_func(X_train[0:1], X_train[0:1, 0])\n",
    "J_in = NP.concatenate((X_train[0:1, 0:1, :], J_predict[0:1, :-1, :]), axis=1)\n",
    "v_jacobi = jacobi_func(X_train[0:1], X_train[0:1, 0])"
   ]
  },
  {
   "cell_type": "code",
   "execution_count": null,
   "metadata": {
    "collapsed": false
   },
   "outputs": [],
   "source": [
    "print J_predict[0, 3]\n",
    "print Y_train[0, 3]"
   ]
  },
  {
   "cell_type": "code",
   "execution_count": null,
   "metadata": {
    "collapsed": false
   },
   "outputs": [],
   "source": [
    "print J_predict[0, 3]\n",
    "print Y_train[0, 3]"
   ]
  },
  {
   "cell_type": "code",
   "execution_count": null,
   "metadata": {
    "collapsed": false
   },
   "outputs": [],
   "source": [
    "p_jacobi = jacobi_func(X_train[0:1], X_train[0:1, 0])\n",
    "#print p_jacobi"
   ]
  },
  {
   "cell_type": "code",
   "execution_count": null,
   "metadata": {
    "collapsed": false
   },
   "outputs": [],
   "source": [
    "NP.shape(v_jacobi)"
   ]
  },
  {
   "cell_type": "code",
   "execution_count": null,
   "metadata": {
    "collapsed": false
   },
   "outputs": [],
   "source": [
    "NP.sum(abs(v_jacobi[30]), axis=2)"
   ]
  },
  {
   "cell_type": "code",
   "execution_count": null,
   "metadata": {
    "collapsed": false
   },
   "outputs": [],
   "source": []
  },
  {
   "cell_type": "code",
   "execution_count": null,
   "metadata": {
    "collapsed": false
   },
   "outputs": [],
   "source": [
    "help(ProgressBar)"
   ]
  },
  {
   "cell_type": "code",
   "execution_count": null,
   "metadata": {
    "collapsed": false
   },
   "outputs": [],
   "source": [
    "pb = ProgressBar(1000, title='Outer', key='outer')\n",
    "for i in pb:\n",
    "    pb_inner = ProgressBar(1, title='Inner', key='inner')\n",
    "    print 'hhh'"
   ]
  },
  {
   "cell_type": "code",
   "execution_count": null,
   "metadata": {
    "collapsed": true
   },
   "outputs": [],
   "source": []
  }
 ],
 "metadata": {
  "kernelspec": {
   "display_name": "Python 2",
   "language": "python",
   "name": "python2"
  },
  "language_info": {
   "codemirror_mode": {
    "name": "ipython",
    "version": 2
   },
   "file_extension": ".py",
   "mimetype": "text/x-python",
   "name": "python",
   "nbconvert_exporter": "python",
   "pygments_lexer": "ipython2",
   "version": "2.7.10"
  }
 },
 "nbformat": 4,
 "nbformat_minor": 0
}
