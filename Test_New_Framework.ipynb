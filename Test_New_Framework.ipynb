{
 "cells": [
  {
   "cell_type": "code",
   "execution_count": null,
   "metadata": {
    "collapsed": false
   },
   "outputs": [],
   "source": [
    "import theano\n",
    "import theano.tensor as T\n",
    "import theano.tensor.nnet as NN\n",
    "import numpy as NP\n",
    "import numpy.random as RNG\n",
    "import h5py\n",
    "import dataUtils\n",
    "from collections import OrderedDict\n",
    "from Wrapper import Model, rmsprop"
   ]
  },
  {
   "cell_type": "code",
   "execution_count": null,
   "metadata": {
    "collapsed": false
   },
   "outputs": [],
   "source": [
    "''' \n",
    "load data \n",
    "'''\n",
    "in_dim = 49\n",
    "out_dim = 49\n",
    "batch_size = 16\n",
    "\n",
    "#X_train, Y_train=read_txt('ptb.train.txt')\n",
    "X_test, Y_test=dataUtils.read_txt('ptb.test.txt')\n"
   ]
  },
  {
   "cell_type": "code",
   "execution_count": null,
   "metadata": {
    "collapsed": false
   },
   "outputs": [],
   "source": [
    "def _step(trash, cur_in, rec_in1, rec_in2, rec_in3):\n",
    "    gru1_h = model.gru(cur_in = cur_in, rec_in = rec_in1, name='gru1', shape=(in_dim, 20))\n",
    "    gru2_h = model.gru(cur_in = gru1_h, rec_in = rec_in2, name='gru2', shape=(20, 20))\n",
    "    gru3_h = model.gru(cur_in = gru2_h, rec_in = rec_in3, name='gru3', shape=(20, 20))\n",
    "    merge = T.concatenate([gru1_h, gru2_h, gru3_h], axis=1)\n",
    "    fc1 = model.fc(cur_in = merge, name='fc1', shape=(60, out_dim))\n",
    "    return fc1, gru1_h, gru2_h, gru3_h\n",
    "    "
   ]
  },
  {
   "cell_type": "code",
   "execution_count": null,
   "metadata": {
    "collapsed": false
   },
   "outputs": [],
   "source": [
    "model = Model()\n",
    "char_in = T.tensor3()\n",
    "char_tar = T.tensor3()\n",
    "_char_in = char_in.dimshuffle(1, 0, 2)\n",
    "starts = T.matrix()\n",
    "\n",
    "sc, _ = theano.scan(_step, sequences=[_char_in], outputs_info=[starts, T.zeros((batch_size, 20)), T.zeros((batch_size, 20)), T.zeros((batch_size, 20))])\n",
    "char_out = sc[0].dimshuffle(1, 0, 2)\n",
    "\n",
    "cost = T.mean(T.sum((char_tar - char_out) ** 2, axis=2))\n",
    "\n",
    "train_func = theano.function([char_in, starts, char_tar], [cost, char_out], updates=rmsprop(cost, model.weightsPack.getW_list()), allow_input_downcast=True)\n",
    "#predic_func = theano.function([char_in, starts], char_out, allow_input_downcast=True)\n"
   ]
  },
  {
   "cell_type": "code",
   "execution_count": null,
   "metadata": {
    "collapsed": false
   },
   "outputs": [],
   "source": [
    "#jacobi = T.jacobian(char_out.flatten(), starts)\n",
    "#jacobi_func = theano.function([char_in, starts], jacobi, allow_input_downcast=True)"
   ]
  },
  {
   "cell_type": "code",
   "execution_count": null,
   "metadata": {
    "collapsed": false
   },
   "outputs": [],
   "source": [
    "cost, char_out = train_func(X_train[0:16], X_train[0:16, 0], Y_train[0:16])"
   ]
  }
 ],
 "metadata": {
  "kernelspec": {
   "display_name": "Python 2",
   "language": "python",
   "name": "python2"
  },
  "language_info": {
   "codemirror_mode": {
    "name": "ipython",
    "version": 2
   },
   "file_extension": ".py",
   "mimetype": "text/x-python",
   "name": "python",
   "nbconvert_exporter": "python",
   "pygments_lexer": "ipython2",
   "version": "2.7.10"
  }
 },
 "nbformat": 4,
 "nbformat_minor": 0
}
