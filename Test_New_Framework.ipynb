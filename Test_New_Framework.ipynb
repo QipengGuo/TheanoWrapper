{
 "cells": [
  {
   "cell_type": "code",
   "execution_count": null,
   "metadata": {
    "collapsed": false
   },
   "outputs": [],
   "source": [
    "import os\n",
    "os.environ['THEANO_FLAGS']='mode=FAST_RUN,device=gpu0,floatX=float32'"
   ]
  },
  {
   "cell_type": "code",
   "execution_count": 1,
   "metadata": {
    "collapsed": false
   },
   "outputs": [],
   "source": [
    "import theano\n",
    "import theano.tensor as T\n",
    "import theano.tensor.nnet as NN\n",
    "import numpy as NP\n",
    "import numpy.random as RNG\n",
    "import h5py\n",
    "import dataUtils\n",
    "from collections import OrderedDict\n",
    "from Wrapper import Model, rmsprop"
   ]
  },
  {
   "cell_type": "code",
   "execution_count": 2,
   "metadata": {
    "collapsed": true
   },
   "outputs": [],
   "source": [
    "def get_conv_out(img_shape, conv_shape):\n",
    "    img_row, img_col = img_shape\n",
    "    nr_filters, nr_channels, filter_row, filter_col, stride_row, stride_col = conv_shape\n",
    "    output_dim = ((img_row - filter_row) / stride_row + 1) * ((img_col - filter_col) / stride_col + 1) * nr_filters * nr_channels\n",
    "    return output_dim"
   ]
  },
  {
   "cell_type": "code",
   "execution_count": 14,
   "metadata": {
    "collapsed": false
   },
   "outputs": [],
   "source": [
    "def _step(cur_in):\n",
    "    \n",
    "    conv1_shape = (32, 1, 5, 5, 1, 1)\n",
    "    conv1_h = model.conv(cur_in = cur_in, name = 'conv1', shape=conv1_shape)\n",
    "    conv1_out_dim = get_conv_out(img_shape, conv1_shape)\n",
    "    fc1 = model.fc(cur_in = conv1_h.flatten(2), name = 'fc1', shape=(conv1_out_dim, out_dim))\n",
    "    return fc1\n",
    "    \n",
    "img_shape = (28, 28)\n",
    "out_dim = 10\n",
    "model = Model()\n",
    "img_in = T.tensor4()\n",
    "seg_img = T.tensor4()\n",
    "img_tar = T.matrix()\n",
    "img_out = _step(img_in)\n",
    "_EPSI = 1e-6\n",
    "sal_img = T.grad(T.sum(img_out[:,0]), img_in)\n",
    "cost2 = T.mean((sal_img-seg_img)**2)\n",
    "cost = cost2 + T.mean(T.sum(NN.binary_crossentropy(T.clip(img_out, _EPSI, 1.0 - _EPSI), img_tar), axis=1))\n",
    "\n",
    "train_func = theano.function([img_in, img_tar, seg_img], [cost, img_out], updates=rmsprop(cost, model.weightsPack.getW_list()), allow_input_downcast=True)\n",
    "predict_func = theano.function([img_in], img_out, allow_input_downcast=True)"
   ]
  },
  {
   "cell_type": "code",
   "execution_count": null,
   "metadata": {
    "collapsed": false
   },
   "outputs": [],
   "source": [
    "''' \n",
    "load data \n",
    "'''\n",
    "in_dim = 49\n",
    "out_dim = 49\n",
    "batch_size = 16\n",
    "\n",
    "X_train, Y_train=dataUtils.read_txt('ptb.train.txt')\n",
    "#X_test, Y_test=dataUtils.read_txt('ptb.test.txt')\n"
   ]
  },
  {
   "cell_type": "code",
   "execution_count": null,
   "metadata": {
    "collapsed": false
   },
   "outputs": [],
   "source": [
    "def _step(trash, cur_in, rec_in1, rec_in2, rec_in3):\n",
    "    \n",
    "    gru1_h = model.gru(cur_in = cur_in, rec_in = rec_in1, name='gru1', shape=(in_dim, 20))\n",
    "    gru2_h = model.gru(cur_in = gru1_h, rec_in = rec_in2, name='gru2', shape=(20, 20))\n",
    "    gru3_h = model.gru(cur_in = gru2_h, rec_in = rec_in3, name='gru3', shape=(20, 20))\n",
    "    merge = T.concatenate([gru1_h, gru2_h, gru3_h], axis=1)\n",
    "    fc1 = model.fc(cur_in = merge, name='fc1', shape=(60, out_dim))\n",
    "    return [fc1] + [gru1_h, gru2_h, gru3_h]\n",
    "    \n",
    "model = Model()\n",
    "char_in = T.tensor3()\n",
    "char_tar = T.tensor3()\n",
    "_char_in = char_in.dimshuffle(1, 0, 2)\n",
    "starts = T.matrix()\n",
    "\n",
    "sc, _ = theano.scan(_step, sequences=[_char_in], outputs_info=[starts, T.zeros((char_in.shape[0], 20)), T.zeros((char_in.shape[0], 20)), T.zeros((char_in.shape[0], 20))])\n",
    "char_out = sc[0].dimshuffle(1, 0, 2)\n",
    "_EPSI = 1e-6\n",
    "cost = T.mean(T.sum(NN.binary_crossentropy(T.clip(char_out, _EPSI, 1.0 - _EPSI), char_tar), axis=2))\n",
    "\n",
    "#cost = T.mean(T.sum((char_tar - char_out) ** 2, axis=2))\n",
    "train_func = theano.function([char_in, starts, char_tar], [cost, char_out], updates=rmsprop(cost, model.weightsPack.getW_list()), allow_input_downcast=True)\n",
    "predict_func = theano.function([char_in, starts], char_out, allow_input_downcast=True)"
   ]
  },
  {
   "cell_type": "code",
   "execution_count": null,
   "metadata": {
    "collapsed": false
   },
   "outputs": [],
   "source": [
    "def _step(cur_in, trash, rec_in1, rec_in2, rec_in3):\n",
    "    \n",
    "    gru1_h = model2.gru(cur_in = cur_in, rec_in = rec_in1, name='gru1', shape=(in_dim, 100))\n",
    "    gru2_h = model2.gru(cur_in = gru1_h, rec_in = rec_in2, name='gru2', shape=(100, 100))\n",
    "    gru3_h = model2.gru(cur_in = gru2_h, rec_in = rec_in3, name='gru3', shape=(100, 100))\n",
    "    merge = T.concatenate([gru1_h, gru2_h, gru3_h], axis=1)\n",
    "    fc1 = model.fc(cur_in = merge, name='fc1', shape=(60, out_dim))\n",
    "    return [fc1] + [gru1_h, gru2_h, gru3_h]\n",
    "    \n",
    "model2 = Model()\n",
    "\n",
    "\n",
    "char_in = T.tensor3()\n",
    "char_tar = T.tensor3()\n",
    "_char_in = char_in.dimshuffle(1, 0, 2)\n",
    "starts = T.matrix()\n",
    "\n",
    "sc, _ = theano.scan(_step, sequences=[_char_in], outputs_info=[starts, T.zeros((char_in.shape[0], 20)), T.zeros((char_in.shape[0], 20)), T.zeros((char_in.shape[0], 20))])\n",
    "char_out = sc[0].dimshuffle(1, 0, 2)\n",
    "\n",
    "#cost = T.mean(T.sum((char_tar - char_out) ** 2, axis=2))\n",
    "\n",
    "#train_func = theano.function([char_in, starts, char_tar], [cost, char_out], updates=rmsprop(cost, model.weightsPack.getW_list()), allow_input_downcast=True)\n",
    "#Jpredict_func = theano.function([char_in, starts], char_out, allow_input_downcast=True)\n",
    "jacobi = T.jacobian(char_out[0, :50, 0:3].flatten(), char_in)\n",
    "jacobi_func = theano.function([char_in, starts], jacobi, allow_input_downcast=True)"
   ]
  },
  {
   "cell_type": "code",
   "execution_count": null,
   "metadata": {
    "collapsed": true
   },
   "outputs": [],
   "source": [
    "model2.weightsPack = model.weightsPack\n",
    "model2.layersPack = model.layersPack"
   ]
  },
  {
   "cell_type": "code",
   "execution_count": null,
   "metadata": {
    "collapsed": false
   },
   "outputs": [],
   "source": [
    "str(0.5555)"
   ]
  },
  {
   "cell_type": "code",
   "execution_count": null,
   "metadata": {
    "collapsed": false
   },
   "outputs": [],
   "source": [
    "pb = ProgressBar(40000, title='Epoch '+str(1), key='outer')\n",
    "for i in pb:\n",
    "    pb_inner = ProgressBar(1, title='Inner', key='inner')"
   ]
  },
  {
   "cell_type": "code",
   "execution_count": null,
   "metadata": {
    "collapsed": false
   },
   "outputs": [],
   "source": [
    "len(X_train)"
   ]
  },
  {
   "cell_type": "code",
   "execution_count": null,
   "metadata": {
    "collapsed": false
   },
   "outputs": [],
   "source": [
    "from ipy_progressbar import ProgressBar\n",
    "batch_size = 64\n",
    "pb = ProgressBar(len(X_train), title='Epoch '+str(i), key='outer')\n",
    "for i in xrange(10):\n",
    "    print 'epoch ', i\n",
    "\n",
    "    for j in xrange(len(X_train)/batch_size):\n",
    "        train_cost, _ = train_func(X_train[j*batch_size:(j+1)*batch_size], X_train[j*batch_size:(j+1)*batch_size,0], Y_train[j*batch_size:(j+1)*batch_size]) \n",
    "        pb_inner = ProgressBar(1, title='Inner', key='inner')"
   ]
  },
  {
   "cell_type": "code",
   "execution_count": null,
   "metadata": {
    "collapsed": false
   },
   "outputs": [],
   "source": [
    "J_predict = predict_func(X_train[0:1], X_train[0:1, 0])\n",
    "J_in = NP.concatenate((X_train[0:1, 0:1, :], J_predict[0:1, :-1, :]), axis=1)\n",
    "v_jacobi = jacobi_func(X_train[0:1], X_train[0:1, 0])"
   ]
  },
  {
   "cell_type": "code",
   "execution_count": null,
   "metadata": {
    "collapsed": false
   },
   "outputs": [],
   "source": [
    "print J_predict[0, 3]\n",
    "print Y_train[0, 3]"
   ]
  },
  {
   "cell_type": "code",
   "execution_count": null,
   "metadata": {
    "collapsed": false
   },
   "outputs": [],
   "source": [
    "print J_predict[0, 3]\n",
    "print Y_train[0, 3]"
   ]
  },
  {
   "cell_type": "code",
   "execution_count": null,
   "metadata": {
    "collapsed": false
   },
   "outputs": [],
   "source": [
    "p_jacobi = jacobi_func(X_train[0:1], X_train[0:1, 0])\n",
    "#print p_jacobi"
   ]
  },
  {
   "cell_type": "code",
   "execution_count": null,
   "metadata": {
    "collapsed": false
   },
   "outputs": [],
   "source": [
    "NP.shape(v_jacobi)"
   ]
  },
  {
   "cell_type": "code",
   "execution_count": null,
   "metadata": {
    "collapsed": false
   },
   "outputs": [],
   "source": [
    "NP.sum(abs(v_jacobi[30]), axis=2)"
   ]
  },
  {
   "cell_type": "code",
   "execution_count": null,
   "metadata": {
    "collapsed": false
   },
   "outputs": [],
   "source": []
  },
  {
   "cell_type": "code",
   "execution_count": null,
   "metadata": {
    "collapsed": false
   },
   "outputs": [],
   "source": [
    "help(ProgressBar)"
   ]
  },
  {
   "cell_type": "code",
   "execution_count": null,
   "metadata": {
    "collapsed": false
   },
   "outputs": [],
   "source": [
    "pb = ProgressBar(1000, title='Outer', key='outer')\n",
    "for i in pb:\n",
    "    pb_inner = ProgressBar(1, title='Inner', key='inner')\n",
    "    print 'hhh'"
   ]
  },
  {
   "cell_type": "code",
   "execution_count": null,
   "metadata": {
    "collapsed": true
   },
   "outputs": [],
   "source": []
  }
 ],
 "metadata": {
  "kernelspec": {
   "display_name": "Python 2",
   "language": "python",
   "name": "python2"
  },
  "language_info": {
   "codemirror_mode": {
    "name": "ipython",
    "version": 2
   },
   "file_extension": ".py",
   "mimetype": "text/x-python",
   "name": "python",
   "nbconvert_exporter": "python",
   "pygments_lexer": "ipython2",
   "version": "2.7.10"
  }
 },
 "nbformat": 4,
 "nbformat_minor": 0
}
