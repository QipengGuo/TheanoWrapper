{
 "cells": [
  {
   "cell_type": "code",
   "execution_count": null,
   "metadata": {
    "collapsed": false
   },
   "outputs": [],
   "source": [
    "import os\n",
    "os.environ['THEANO_FLAGS']='mode=FAST_RUN,device=gpu,floatX=float32'"
   ]
  },
  {
   "cell_type": "code",
   "execution_count": null,
   "metadata": {
    "collapsed": false
   },
   "outputs": [],
   "source": [
    "import theano\n",
    "import theano.tensor as T\n",
    "import theano.tensor.nnet as NN\n",
    "import numpy as NP\n",
    "import numpy.random as RNG\n",
    "import h5py\n",
    "import dataUtils\n",
    "from collections import OrderedDict\n",
    "from Wrapper import Model, rmsprop\n",
    "%matplotlib inline\n",
    "import matplotlib.pyplot as plt\n",
    "from theano.tensor.signal import downsample"
   ]
  },
  {
   "cell_type": "markdown",
   "metadata": {},
   "source": [
    "Base CNN"
   ]
  },
  {
   "cell_type": "code",
   "execution_count": null,
   "metadata": {
    "collapsed": false
   },
   "outputs": [],
   "source": [
    "def get_conv_out_dim(img_shape, conv_shape):\n",
    "    img_row, img_col = img_shape\n",
    "    nr_filters, nr_channels, filter_row, filter_col, stride_row, stride_col = conv_shape\n",
    "    output_dim = ((img_row - filter_row) / stride_row + 1) * ((img_col - filter_col) / stride_col + 1) * nr_filters * 1\n",
    "    return output_dim\n",
    "\n",
    "def get_conv_out_shape(img_shape, conv_shape):\n",
    "    img_row, img_col = img_shape\n",
    "    nr_filters, nr_channels, filter_row, filter_col, stride_row, stride_col = conv_shape\n",
    "    return (((img_row - filter_row) / stride_row + 1), ((img_col - filter_col) / stride_col + 1))\n",
    "\n",
    "def _step(cur_in):\n",
    "    \n",
    "    maxpool_shape=(2, 2)\n",
    "    \n",
    "    conv1_shape = (20, 1, 5, 5, 1, 1)\n",
    "    conv1_h = model.conv(cur_in = cur_in, name = 'conv1', shape=conv1_shape)\n",
    "    pool1 = downsample.max_pool_2d(conv1_h, maxpool_shape, ignore_border = True)\n",
    "    conv1_act = T.tanh(pool1)\n",
    "    \n",
    "    conv2_shape = (50, 20, 5, 5, 1, 1)\n",
    "    conv2_h = model.conv(cur_in = conv1_act, name = 'conv2', shape=conv2_shape)\n",
    "    pool2 = downsample.max_pool_2d(conv2_h, maxpool_shape, ignore_border = True)\n",
    "    conv2_act = T.tanh(pool2)\n",
    "    \n",
    "    fc1 = NN.sigmoid(model.fc(cur_in = conv2_act.flatten(2), name = 'fc1', shape=(24200, out_dim)))\n",
    "    #fc1 = NN.softmax(model.fc(cur_in = conv2_act.flatten(2), name = 'fc1', shape=(24200, out_dim)))\n",
    "    return fc1\n",
    "    \n",
    "\n",
    "img_shape = (100, 100)\n",
    "out_dim = 10\n",
    "model = Model()\n",
    "img_in = T.tensor4()\n",
    "seg_img = T.tensor4()\n",
    "img_tar = T.matrix()\n",
    "img_out = _step(img_in)\n",
    "_EPSI = 1e-6\n",
    "MAX_V = 20\n",
    "cost = T.mean(T.sum(NN.binary_crossentropy(T.clip(img_out, _EPSI, 1.0 - _EPSI), img_tar), axis=1))\n",
    "#cost = T.mean(NN.categorical_crossentropy(T.clip(img_out, _EPSI, 1.0 - _EPSI), img_tar))\n",
    "cost_sum_sal = 0.0\n",
    "cost_sal = [None]*10\n",
    "for i in xrange(10):\n",
    "    sal_img = T.grad(T.sum(img_out[:,i]), img_in)\n",
    "    sal_img = sal_img / (T.sum(sal_img)+_EPSI)\n",
    "    cost_sal[i] = T.sum((sal_img-seg_img[:,i:i+1])**2)\n",
    "    cost_sal[i] = T.switch(cost_sal[i]>MAX_V, MAX_V, cost_sal[i])\n",
    "    cost_sum_sal += cost_sal[i]\n",
    "\n",
    "#grad_func = theano.function([img_in, img_tar], rms_grad.values()[4], allow_input_downcast=True)    \n",
    "#test_func = theano.function([img_in, img_tar, seg_img], cost, allow_input_downcast=True)\n",
    "test_base_conv_func = theano.function([img_in, img_tar, seg_img], [cost, img_out, cost_sum_sal], allow_input_downcast=True)\n",
    "train_base_conv_func = theano.function([img_in, img_tar], [cost, img_out], updates=rmsprop(cost, model.weightsPack.getW_list(), lr=1e-4, rho=0.9, epsilon=1e-8), allow_input_downcast=True)\n",
    "model_base_conv = model\n",
    "#predict_func = theano.function([img_in], img_out, allow_input_downcast=True)"
   ]
  },
  {
   "cell_type": "code",
   "execution_count": null,
   "metadata": {
    "collapsed": false,
    "scrolled": true
   },
   "outputs": [],
   "source": [
    "train_batch_size = 64\n",
    "test_batch_size = 64\n",
    "test_his = []\n",
    "\n",
    "from dataUtils import BouncingMNIST\n",
    "image_size = 100\n",
    "bmnist = BouncingMNIST(train_batch_size, image_size, 'train/inputs', 'train/targets', with_clutters=False, clutter_size_max = 14, scale_range = 0.1)\n",
    "bmnist_test = BouncingMNIST(test_batch_size, image_size, 'test/inputs', 'test/targets', with_clutters=False, clutter_size_max = 14, scale_range = 0.1)\n",
    "for i in xrange(50):\n",
    "    for j in xrange(200):\n",
    "        #data, label, seg=bmnist.GetStaticBatch(num_digits=RNG.randint(5))\n",
    "        data, label, seg=bmnist.GetStaticBatch(num_digits=1)\n",
    "        n_cost, net_out = train_base_conv_func(data, label)\n",
    "        #acc = NP.mean(NP.argmax(net_out, axis=1)==NP.argmax(label, axis=1))\n",
    "        acc = NP.mean(NP.sum(((net_out>0.5)==(label>0.5))==(label>0.5), axis=1))\n",
    "        print 'Epoch = ', str(i), ' Batch = ', str(j), ' Cost = ', n_cost, ' ACC = ', acc\n",
    "    test_acc = []\n",
    "    test_sal_cost = []\n",
    "    for j in xrange(len(bmnist_test.data_)/test_batch_size):\n",
    "        data, label, seg=bmnist_test.GetStaticBatch(num_digits=1)\n",
    "        n_cost, net_out, n_sal_cost = test_base_conv_func(data, label, seg)\n",
    "        test_sal_cost.append(n_sal_cost)\n",
    "        test_acc.append(NP.mean(NP.sum(((net_out>0.5)==(label>0.5))==(label>0.5), axis=1)))\n",
    "        #test_acc = NP.mean(NP.argmax(net_out, axis=1)==NP.argmax(label, axis=1))\n",
    "    print 'Epoch = ', str(i), ' Batch = ', str(j), ' Test ACC = ', NP.mean(NP.asarray(test_acc)), 'Test Sal Cost = ', NP.mean(NP.asarray(test_sal_cost))\n",
    "    test_his.append(NP.mean(NP.asarray(test_acc)))"
   ]
  },
  {
   "cell_type": "markdown",
   "metadata": {},
   "source": [
    "Fully conv"
   ]
  },
  {
   "cell_type": "code",
   "execution_count": null,
   "metadata": {
    "collapsed": false
   },
   "outputs": [],
   "source": [
    "def get_conv_out_dim(img_shape, conv_shape):\n",
    "    img_row, img_col = img_shape\n",
    "    nr_filters, nr_channels, filter_row, filter_col, stride_row, stride_col = conv_shape\n",
    "    output_dim = ((img_row - filter_row) / stride_row + 1) * ((img_col - filter_col) / stride_col + 1) * nr_filters * 1\n",
    "    return output_dim\n",
    "\n",
    "def get_conv_out_shape(img_shape, conv_shape):\n",
    "    img_row, img_col = img_shape\n",
    "    nr_filters, nr_channels, filter_row, filter_col, stride_row, stride_col = conv_shape\n",
    "    return (((img_row - filter_row) / stride_row + 1), ((img_col - filter_col) / stride_col + 1))\n",
    "\n",
    "def _step(cur_in):\n",
    "    \n",
    "    conv1_shape = (20, 1, 5, 5, 2, 2)\n",
    "    \n",
    "    conv1_h = model.conv(cur_in = cur_in, name = 'conv1', shape=conv1_shape)\n",
    "    conv1_out_shape = get_conv_out_shape(img_shape, conv1_shape)\n",
    "    conv1_h = T.tanh(conv1_h)\n",
    "    \n",
    "    conv2_shape = (50, 20, 5, 5, 2, 2)\n",
    "    conv2_h = model.conv(cur_in = conv1_h, name = 'conv2', shape=conv2_shape)\n",
    "    conv2_h = T.tanh(conv2_h)\n",
    "    \n",
    "    conv3_shape = (50, 50, 5, 5, 2, 2)\n",
    "    conv3_h = model.conv(cur_in = conv2_h, name = 'conv3', shape=conv3_shape)\n",
    "    conv3_h = T.tanh(conv3_h)\n",
    "    \n",
    "    fc1 = NN.sigmoid(model.fc(cur_in = conv3_h.flatten(2), name = 'fc1', shape=(4050, 10)))\n",
    "    #fc2 = NN.softmax(model.fc(cur_in = fc1, name = 'fc2', shape=(100, out_dim)))\n",
    "    return fc1\n",
    "    \n",
    "\n",
    "img_shape = (100, 100)\n",
    "out_dim = 10\n",
    "model = Model()\n",
    "img_in = T.tensor4()\n",
    "seg_img = T.tensor4()\n",
    "img_tar = T.matrix()\n",
    "img_out = _step(img_in)\n",
    "_EPSI = 1e-6\n",
    "cost = T.mean(T.sum(NN.binary_crossentropy(T.clip(img_out, _EPSI, 1.0 - _EPSI), img_tar), axis=1))\n",
    "#cost = T.mean(NN.categorical_crossentropy(T.clip(img_out, _EPSI, 1.0 - _EPSI), img_tar))\n",
    "MAX_V = 20\n",
    "cost_sum_sal = 0.0\n",
    "cost_sal = [None]*10\n",
    "for i in xrange(10):\n",
    "    sal_img = T.grad(T.sum(img_out[:,i]), img_in)\n",
    "    sal_img = sal_img / (T.sum(sal_img)+_EPSI)\n",
    "    cost_sal[i] = T.sum((sal_img-seg_img[:,i:i+1])**2)\n",
    "    cost_sal[i] = T.switch(cost_sal[i]>MAX_V, MAX_V, cost_sal[i])\n",
    "    cost_sum_sal += cost_sal[i]\n",
    "    \n",
    "#grad_func = theano.function([img_in, img_tar], rms_grad.values()[4], allow_input_downcast=True)    \n",
    "#test_func = theano.function([img_in, img_tar, seg_img], cost, allow_input_downcast=True)\n",
    "test_fc_func = theano.function([img_in, img_tar, seg_img], [cost, img_out, cost_sum_sal], allow_input_downcast=True)\n",
    "train_fc_func = theano.function([img_in, img_tar], [cost, img_out], updates=rmsprop(cost, model.weightsPack.getW_list(), lr=1e-4, rho=0.9, epsilon=1e-8), allow_input_downcast=True)\n",
    "model_fc = model\n",
    "#predict_func = theano.function([img_in], img_out, allow_input_downcast=True)"
   ]
  },
  {
   "cell_type": "code",
   "execution_count": null,
   "metadata": {
    "collapsed": false,
    "scrolled": true
   },
   "outputs": [],
   "source": [
    "train_batch_size = 64\n",
    "test_batch_size = 64\n",
    "test_fc_his = []\n",
    "\n",
    "from dataUtils import BouncingMNIST\n",
    "image_size = 100\n",
    "bmnist = BouncingMNIST(train_batch_size, image_size, 'train/inputs', 'train/targets', with_clutters=False, clutter_size_max = 14, scale_range = 0.1)\n",
    "bmnist_test = BouncingMNIST(test_batch_size, image_size, 'test/inputs', 'test/targets', with_clutters=False, clutter_size_max = 14, scale_range = 0.1)\n",
    "for i in xrange(50):\n",
    "    for j in xrange(5):\n",
    "        #data, label, seg=bmnist.GetStaticBatch(num_digits=RNG.randint(5))\n",
    "        data, label, seg=bmnist.GetStaticBatch(num_digits=1)\n",
    "        n_cost, net_out = train_fc_func(data, label)\n",
    "        #acc = NP.mean(NP.argmax(net_out, axis=1)==NP.argmax(label, axis=1))\n",
    "        acc = 1.0*NP.sum((net_out+label>1.5))/NP.sum((net_out+label>0.5))\n",
    "        print 'Epoch = ', str(i), ' Batch = ', str(j), ' Cost = ', n_cost, ' ACC = ', acc\n",
    "    test_acc = []\n",
    "    test_sal_cost = []\n",
    "    for j in xrange(len(bmnist_test.data_)/test_batch_size):\n",
    "        data, label, seg=bmnist_test.GetStaticBatch(num_digits=1)\n",
    "        n_cost, net_out, n_sal_cost = test_fc_func(data, label, seg)\n",
    "        test_sal_cost.append(n_sal_cost)\n",
    "        test_acc.append(NP.mean(NP.sum(((net_out>0.5)==(label>0.5))==(label>0.5), axis=1)))\n",
    "        #test_acc = NP.mean(NP.argmax(net_out, axis=1)==NP.argmax(label, axis=1))\n",
    "    print 'Epoch = ', str(i), ' Batch = ', str(j), ' Test ACC = ', NP.mean(NP.asarray(test_acc)), 'Test Sal Cost = ', NP.mean(NP.asarray(test_sal_cost))\n",
    "    test_fc_his.append(NP.mean(NP.asarray(test_acc)))\n",
    "    "
   ]
  },
  {
   "cell_type": "code",
   "execution_count": null,
   "metadata": {
    "collapsed": false
   },
   "outputs": [],
   "source": [
    "len(bmnist_test.data_)"
   ]
  },
  {
   "cell_type": "markdown",
   "metadata": {},
   "source": [
    "Sal Fully Conv"
   ]
  },
  {
   "cell_type": "code",
   "execution_count": null,
   "metadata": {
    "collapsed": false,
    "scrolled": true
   },
   "outputs": [],
   "source": [
    "def get_conv_out_dim(img_shape, conv_shape):\n",
    "    img_row, img_col = img_shape\n",
    "    nr_filters, nr_channels, filter_row, filter_col, stride_row, stride_col = conv_shape\n",
    "    output_dim = ((img_row - filter_row) / stride_row + 1) * ((img_col - filter_col) / stride_col + 1) * nr_filters * 1\n",
    "    return output_dim\n",
    "\n",
    "def get_conv_out_shape(img_shape, conv_shape):\n",
    "    img_row, img_col = img_shape\n",
    "    nr_filters, nr_channels, filter_row, filter_col, stride_row, stride_col = conv_shape\n",
    "    return (((img_row - filter_row) / stride_row + 1), ((img_col - filter_col) / stride_col + 1))\n",
    "\n",
    "def _step(cur_in):\n",
    "    \n",
    "    conv1_shape = (20, 1, 5, 5, 2, 2)\n",
    "    \n",
    "    conv1_h = model.conv(cur_in = cur_in, name = 'conv1', shape=conv1_shape)\n",
    "    conv1_out_shape = get_conv_out_shape(img_shape, conv1_shape)\n",
    "    conv1_h = T.tanh(conv1_h)\n",
    "    \n",
    "    conv2_shape = (50, 20, 5, 5, 2, 2)\n",
    "    conv2_h = model.conv(cur_in = conv1_h, name = 'conv2', shape=conv2_shape)\n",
    "    conv2_h = T.tanh(conv2_h)\n",
    "    \n",
    "    fc1 = NN.sigmoid(model.fc(cur_in = conv2_h.flatten(2), name = 'fc1', shape=(24200, 10)))\n",
    "    #fc2 = NN.softmax(model.fc(cur_in = fc1, name = 'fc2', shape=(100, out_dim)))\n",
    "    return fc1\n",
    "    \n",
    "\n",
    "img_shape = (100, 100)\n",
    "out_dim = 10\n",
    "model = Model()\n",
    "img_in = T.tensor4()\n",
    "seg_img = T.tensor4()\n",
    "img_tar = T.matrix()\n",
    "img_out = _step(img_in)\n",
    "_EPSI = 1e-6\n",
    "cost = T.mean(T.sum(NN.binary_crossentropy(T.clip(img_out, _EPSI, 1.0 - _EPSI), img_tar), axis=1))\n",
    "#cost = T.mean(NN.categorical_crossentropy(T.clip(img_out, _EPSI, 1.0 - _EPSI), img_tar))\n",
    "MAX_V = 20\n",
    "cost_sum_sal = 0.0\n",
    "cost_sal = [None]*10\n",
    "for i in xrange(10):\n",
    "    sal_img = T.grad(T.sum(img_out[:,i]), img_in)\n",
    "    sal_img = sal_img / (T.sum(sal_img)+_EPSI)\n",
    "    cost_sal[i] = T.sum((sal_img-seg_img[:,i:i+1])**2)\n",
    "    cost_sal[i] = T.switch(cost_sal[i]>MAX_V, MAX_V, cost_sal[i])\n",
    "    cost_sum_sal += cost_sal[i]\n",
    "    \n",
    "#grad_func = theano.function([img_in, img_tar], rms_grad.values()[4], allow_input_downcast=True)    \n",
    "#test_func = theano.function([img_in, img_tar, seg_img], cost, allow_input_downcast=True)\n",
    "test_sal_fc_func = theano.function([img_in, img_tar, seg_img], [cost, img_out, cost_sum_sal], allow_input_downcast=True)\n",
    "train_sal_fc_func = theano.function([img_in, img_tar, seg_img], [cost, img_out, cost_sum_sal], updates=rmsprop(cost+cost_sum_sal, model.weightsPack.getW_list(), lr=1e-4, rho=0.9, epsilon=1e-8), allow_input_downcast=True)\n",
    "model_sal_fc = model\n",
    "#predict_func = theano.function([img_in], img_out, allow_input_downcast=True)"
   ]
  },
  {
   "cell_type": "code",
   "execution_count": null,
   "metadata": {
    "collapsed": false
   },
   "outputs": [],
   "source": [
    "train_batch_size = 64\n",
    "test_batch_size = 64\n",
    "test_sal_fc_his = []\n",
    "\n",
    "from dataUtils import BouncingMNIST\n",
    "image_size = 100\n",
    "bmnist = BouncingMNIST(train_batch_size, image_size, 'train/inputs', 'train/targets', with_clutters=False, clutter_size_max = 14, scale_range = 0.1)\n",
    "bmnist_test = BouncingMNIST(test_batch_size, image_size, 'test/inputs', 'test/targets', with_clutters=False, clutter_size_max = 14, scale_range = 0.1)\n",
    "for i in xrange(50):\n",
    "    for j in xrange(200):\n",
    "        #data, label, seg=bmnist.GetStaticBatch(num_digits=RNG.randint(5))\n",
    "        data, label, seg=bmnist.GetStaticBatch(num_digits=1)\n",
    "        n_cost, net_out, n_cost_sal = train_sal_fc_func(data, label, seg)\n",
    "        #acc = NP.mean(NP.argmax(net_out, axis=1)==NP.argmax(label, axis=1))\n",
    "        acc = NP.sum((net_out+label>1.5))/NP.sum((net_out+label>0.5))\n",
    "        print 'Epoch = ', str(i), ' Batch = ', str(j), ' Cost = ', n_cost, ' Cost Sal = ', n_cost_sal, ' ACC = ', acc\n",
    "    \n",
    "    test_acc = []\n",
    "    test_sal_cost = []\n",
    "    for j in xrange(len(bmnist_test.data_)/test_batch_size):\n",
    "        data, label, seg=bmnist_test.GetStaticBatch(num_digits=1)\n",
    "        n_cost, net_out, n_sal_cost = test_sal_fc_func(data, label, seg)\n",
    "        test_sal_cost.append(n_sal_cost)\n",
    "        test_acc.append(NP.mean(NP.sum(((net_out>0.5)==(label>0.5))==(label>0.5), axis=1)))\n",
    "        #test_acc = NP.mean(NP.argmax(net_out, axis=1)==NP.argmax(label, axis=1))\n",
    "    print 'Epoch = ', str(i), ' Batch = ', str(j), ' Test ACC = ', NP.mean(NP.asarray(test_acc)), 'Test Sal Cost = ', NP.mean(NP.asarray(test_sal_cost))\n",
    "    test_sal_fc_his.append(NP.mean(NP.asarray(test_acc)))"
   ]
  },
  {
   "cell_type": "code",
   "execution_count": null,
   "metadata": {
    "collapsed": false
   },
   "outputs": [],
   "source": [
    "batch_size = 200\n",
    "image_size = 30\n",
    "bmnist_test = BouncingMNIST(batch_size, image_size, 'train/inputs', 'train/targets', with_clutters=False, clutter_size_max = 14, scale_range = 0.1)"
   ]
  },
  {
   "cell_type": "code",
   "execution_count": null,
   "metadata": {
    "collapsed": false
   },
   "outputs": [],
   "source": [
    "model.weightsPack.idxs"
   ]
  },
  {
   "cell_type": "code",
   "execution_count": null,
   "metadata": {
    "collapsed": false
   },
   "outputs": [],
   "source": [
    "model.weightsPack.vect[4].get_value()"
   ]
  },
  {
   "cell_type": "code",
   "execution_count": null,
   "metadata": {
    "collapsed": false
   },
   "outputs": [],
   "source": [
    "model.weightsPack.vect[4].get_value()"
   ]
  },
  {
   "cell_type": "code",
   "execution_count": null,
   "metadata": {
    "collapsed": false
   },
   "outputs": [],
   "source": [
    "data, label, seg=bmnist_test.GetStaticBatch(num_digits=1)\n",
    "n_cost_cls, n_cost, net_out = train_func(data, label, seg)\n",
    "acc = NP.mean(NP.argmax(net_out, axis=1)==NP.argmax(label, axis=1))\n",
    "print ' Cost CLS = ', n_cost_cls, ' Cost SUM = ', n_cost, ' ACC = ', acc"
   ]
  },
  {
   "cell_type": "code",
   "execution_count": null,
   "metadata": {
    "collapsed": false
   },
   "outputs": [],
   "source": [
    "data, label, seg=bmnist.GetStaticBatch(num_digits=1)\n",
    "print label\n",
    "print NP.sum(grad_func(data, label))"
   ]
  },
  {
   "cell_type": "code",
   "execution_count": null,
   "metadata": {
    "collapsed": false
   },
   "outputs": [],
   "source": [
    "label[4]"
   ]
  },
  {
   "cell_type": "code",
   "execution_count": null,
   "metadata": {
    "collapsed": false
   },
   "outputs": [],
   "source": [
    "np.mean(seg[4][6])"
   ]
  },
  {
   "cell_type": "code",
   "execution_count": null,
   "metadata": {
    "collapsed": false
   },
   "outputs": [],
   "source": [
    "data, label, seg=bmnist.GetStaticBatch(num_digits=1)\n",
    "plt.imshow(data[4][0])\n",
    "plt.show()\n",
    "plt.imshow(seg[4][7])\n",
    "plt.show()"
   ]
  },
  {
   "cell_type": "code",
   "execution_count": null,
   "metadata": {
    "collapsed": true
   },
   "outputs": [],
   "source": []
  },
  {
   "cell_type": "code",
   "execution_count": null,
   "metadata": {
    "collapsed": false
   },
   "outputs": [],
   "source": []
  },
  {
   "cell_type": "code",
   "execution_count": null,
   "metadata": {
    "collapsed": false
   },
   "outputs": [],
   "source": [
    "''' \n",
    "load data \n",
    "'''\n",
    "in_dim = 49\n",
    "out_dim = 49\n",
    "batch_size = 16\n",
    "\n",
    "X_train, Y_train=dataUtils.read_txt('ptb.train.txt')\n",
    "#X_test, Y_test=dataUtils.read_txt('ptb.test.txt')\n"
   ]
  },
  {
   "cell_type": "code",
   "execution_count": null,
   "metadata": {
    "collapsed": false
   },
   "outputs": [],
   "source": [
    "def _step(trash, cur_in, rec_in1, rec_in2, rec_in3):\n",
    "    \n",
    "    gru1_h = model.gru(cur_in = cur_in, rec_in = rec_in1, name='gru1', shape=(in_dim, 20))\n",
    "    gru2_h = model.gru(cur_in = gru1_h, rec_in = rec_in2, name='gru2', shape=(20, 20))\n",
    "    gru3_h = model.gru(cur_in = gru2_h, rec_in = rec_in3, name='gru3', shape=(20, 20))\n",
    "    merge = T.concatenate([gru1_h, gru2_h, gru3_h], axis=1)\n",
    "    fc1 = model.fc(cur_in = merge, name='fc1', shape=(60, out_dim))\n",
    "    return [fc1] + [gru1_h, gru2_h, gru3_h]\n",
    "    \n",
    "model = Model()\n",
    "char_in = T.tensor3()\n",
    "char_tar = T.tensor3()\n",
    "_char_in = char_in.dimshuffle(1, 0, 2)\n",
    "starts = T.matrix()\n",
    "\n",
    "sc, _ = theano.scan(_step, sequences=[_char_in], outputs_info=[starts, T.zeros((char_in.shape[0], 20)), T.zeros((char_in.shape[0], 20)), T.zeros((char_in.shape[0], 20))])\n",
    "char_out = sc[0].dimshuffle(1, 0, 2)\n",
    "_EPSI = 1e-6\n",
    "cost = T.mean(T.sum(NN.binary_crossentropy(T.clip(char_out, _EPSI, 1.0 - _EPSI), char_tar), axis=2))\n",
    "\n",
    "#cost = T.mean(T.sum((char_tar - char_out) ** 2, axis=2))\n",
    "train_func = theano.function([char_in, starts, char_tar], [cost, char_out], updates=rmsprop(cost, model.weightsPack.getW_list()), allow_input_downcast=True)\n",
    "predict_func = theano.function([char_in, starts], char_out, allow_input_downcast=True)"
   ]
  },
  {
   "cell_type": "code",
   "execution_count": null,
   "metadata": {
    "collapsed": false
   },
   "outputs": [],
   "source": [
    "def _step(cur_in, trash, rec_in1, rec_in2, rec_in3):\n",
    "    \n",
    "    gru1_h = model2.gru(cur_in = cur_in, rec_in = rec_in1, name='gru1', shape=(in_dim, 100))\n",
    "    gru2_h = model2.gru(cur_in = gru1_h, rec_in = rec_in2, name='gru2', shape=(100, 100))\n",
    "    gru3_h = model2.gru(cur_in = gru2_h, rec_in = rec_in3, name='gru3', shape=(100, 100))\n",
    "    merge = T.concatenate([gru1_h, gru2_h, gru3_h], axis=1)\n",
    "    fc1 = model.fc(cur_in = merge, name='fc1', shape=(60, out_dim))\n",
    "    return [fc1] + [gru1_h, gru2_h, gru3_h]\n",
    "    \n",
    "model2 = Model()\n",
    "\n",
    "\n",
    "char_in = T.tensor3()\n",
    "char_tar = T.tensor3()\n",
    "_char_in = char_in.dimshuffle(1, 0, 2)\n",
    "starts = T.matrix()\n",
    "\n",
    "sc, _ = theano.scan(_step, sequences=[_char_in], outputs_info=[starts, T.zeros((char_in.shape[0], 20)), T.zeros((char_in.shape[0], 20)), T.zeros((char_in.shape[0], 20))])\n",
    "char_out = sc[0].dimshuffle(1, 0, 2)\n",
    "\n",
    "#cost = T.mean(T.sum((char_tar - char_out) ** 2, axis=2))\n",
    "\n",
    "#train_func = theano.function([char_in, starts, char_tar], [cost, char_out], updates=rmsprop(cost, model.weightsPack.getW_list()), allow_input_downcast=True)\n",
    "#Jpredict_func = theano.function([char_in, starts], char_out, allow_input_downcast=True)\n",
    "jacobi = T.jacobian(char_out[0, :50, 0:3].flatten(), char_in)\n",
    "jacobi_func = theano.function([char_in, starts], jacobi, allow_input_downcast=True)"
   ]
  },
  {
   "cell_type": "code",
   "execution_count": null,
   "metadata": {
    "collapsed": true
   },
   "outputs": [],
   "source": [
    "model2.weightsPack = model.weightsPack\n",
    "model2.layersPack = model.layersPack"
   ]
  },
  {
   "cell_type": "code",
   "execution_count": null,
   "metadata": {
    "collapsed": false
   },
   "outputs": [],
   "source": [
    "str(0.5555)"
   ]
  },
  {
   "cell_type": "code",
   "execution_count": null,
   "metadata": {
    "collapsed": false
   },
   "outputs": [],
   "source": [
    "pb = ProgressBar(40000, title='Epoch '+str(1), key='outer')\n",
    "for i in pb:\n",
    "    pb_inner = ProgressBar(1, title='Inner', key='inner')"
   ]
  },
  {
   "cell_type": "code",
   "execution_count": null,
   "metadata": {
    "collapsed": false
   },
   "outputs": [],
   "source": [
    "len(X_train)"
   ]
  },
  {
   "cell_type": "code",
   "execution_count": null,
   "metadata": {
    "collapsed": false
   },
   "outputs": [],
   "source": [
    "\n",
    "batch_size = 64\n",
    "pb = ProgressBar(len(X_train), title='Epoch '+str(i), key='outer')\n",
    "for i in xrange(10):\n",
    "    print 'epoch ', i\n",
    "\n",
    "    for j in xrange(len(X_train)/batch_size):\n",
    "        train_cost, _ = train_func(X_train[j*batch_size:(j+1)*batch_size], X_train[j*batch_size:(j+1)*batch_size,0], Y_train[j*batch_size:(j+1)*batch_size]) \n",
    "        pb_inner = ProgressBar(1, title='Inner', key='inner')"
   ]
  },
  {
   "cell_type": "code",
   "execution_count": null,
   "metadata": {
    "collapsed": false
   },
   "outputs": [],
   "source": [
    "J_predict = predict_func(X_train[0:1], X_train[0:1, 0])\n",
    "J_in = NP.concatenate((X_train[0:1, 0:1, :], J_predict[0:1, :-1, :]), axis=1)\n",
    "v_jacobi = jacobi_func(X_train[0:1], X_train[0:1, 0])"
   ]
  },
  {
   "cell_type": "code",
   "execution_count": null,
   "metadata": {
    "collapsed": false
   },
   "outputs": [],
   "source": [
    "print J_predict[0, 3]\n",
    "print Y_train[0, 3]"
   ]
  },
  {
   "cell_type": "code",
   "execution_count": null,
   "metadata": {
    "collapsed": false
   },
   "outputs": [],
   "source": [
    "print J_predict[0, 3]\n",
    "print Y_train[0, 3]"
   ]
  },
  {
   "cell_type": "code",
   "execution_count": null,
   "metadata": {
    "collapsed": false
   },
   "outputs": [],
   "source": [
    "p_jacobi = jacobi_func(X_train[0:1], X_train[0:1, 0])\n",
    "#print p_jacobi"
   ]
  },
  {
   "cell_type": "code",
   "execution_count": null,
   "metadata": {
    "collapsed": false
   },
   "outputs": [],
   "source": [
    "NP.shape(v_jacobi)"
   ]
  },
  {
   "cell_type": "code",
   "execution_count": null,
   "metadata": {
    "collapsed": false
   },
   "outputs": [],
   "source": [
    "NP.sum(abs(v_jacobi[30]), axis=2)"
   ]
  },
  {
   "cell_type": "code",
   "execution_count": null,
   "metadata": {
    "collapsed": false
   },
   "outputs": [],
   "source": []
  },
  {
   "cell_type": "code",
   "execution_count": null,
   "metadata": {
    "collapsed": false
   },
   "outputs": [],
   "source": [
    "help(ProgressBar)"
   ]
  },
  {
   "cell_type": "code",
   "execution_count": null,
   "metadata": {
    "collapsed": false
   },
   "outputs": [],
   "source": [
    "pb = ProgressBar(1000, title='Outer', key='outer')\n",
    "for i in pb:\n",
    "    pb_inner = ProgressBar(1, title='Inner', key='inner')\n",
    "    print 'hhh'"
   ]
  },
  {
   "cell_type": "code",
   "execution_count": null,
   "metadata": {
    "collapsed": true
   },
   "outputs": [],
   "source": []
  }
 ],
 "metadata": {
  "kernelspec": {
   "display_name": "Python 2",
   "language": "python",
   "name": "python2"
  },
  "language_info": {
   "codemirror_mode": {
    "name": "ipython",
    "version": 2
   },
   "file_extension": ".py",
   "mimetype": "text/x-python",
   "name": "python",
   "nbconvert_exporter": "python",
   "pygments_lexer": "ipython2",
   "version": "2.7.10"
  }
 },
 "nbformat": 4,
 "nbformat_minor": 0
}
